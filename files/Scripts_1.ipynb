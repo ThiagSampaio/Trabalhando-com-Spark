{
 "cells": [
  {
   "cell_type": "markdown",
   "metadata": {
    "application/vnd.databricks.v1+cell": {
     "cellMetadata": {},
     "inputWidgets": {},
     "nuid": "f952615d-7635-47e8-94f7-7c5360aa8691",
     "showTitle": false,
     "title": ""
    }
   },
   "source": [
    "# Stack - Trabalhando com Spark"
   ]
  },
  {
   "cell_type": "markdown",
   "metadata": {
    "application/vnd.databricks.v1+cell": {
     "cellMetadata": {},
     "inputWidgets": {},
     "nuid": "7ae6998c-9eb5-4535-af1b-736ba522b9f9",
     "showTitle": false,
     "title": ""
    }
   },
   "source": [
    "- **Task**\n",
    "  - Converta os arquivos em csv para parquet e os envie para processing zone.\n",
    "\n",
    "- **Dataset**\n",
    "  - Usaremos esse dataset https://www.kaggle.com/nhs/general-practice-prescribing-data"
   ]
  },
  {
   "cell_type": "markdown",
   "metadata": {
    "application/vnd.databricks.v1+cell": {
     "cellMetadata": {},
     "inputWidgets": {},
     "nuid": "88ad5f8f-c053-4fb6-8a7c-2e5fc1de9ae5",
     "showTitle": false,
     "title": ""
    }
   },
   "source": [
    "### Modos de leitura\n",
    "- **permissive**: *Define todos os campos para NULL quando encontra registros corrompidos e coloca todos registros corrompidos em uma coluna chamada _corrupt_record.* (default)\n",
    "\n",
    "- **dropMalformed**: *Apaga uma linha corrompida ou que este não consiga ler.*\n",
    "\n",
    "- **failFast**: *Falha imediatamente quando encontra uma linha que não consiga ler.*"
   ]
  },
  {
   "cell_type": "code",
   "execution_count": 0,
   "metadata": {
    "application/vnd.databricks.v1+cell": {
     "cellMetadata": {
      "byteLimit": 2048000,
      "rowLimit": 10000
     },
     "inputWidgets": {},
     "nuid": "549c2b66-041e-41f0-9265-53a8b5bf7e39",
     "showTitle": false,
     "title": ""
    }
   },
   "outputs": [],
   "source": [
    "# ler arquivos vários arquivos csv do dbfs com spark\n",
    "# Lendo todos os arquivos .csv do diretório bigdata (>4GB)\n",
    "\n",
    "df = spark.read.format(\"csv\")\\\n",
    ".option(\"header\", \"True\")\\\n",
    ".option(\"inferSchema\",\"True\")\\\n",
    ".load(\"/FileStore/tables/RawData/*.csv\")"
   ]
  },
  {
   "cell_type": "code",
   "execution_count": 0,
   "metadata": {
    "application/vnd.databricks.v1+cell": {
     "cellMetadata": {
      "byteLimit": 2048000,
      "rowLimit": 10000
     },
     "inputWidgets": {},
     "nuid": "f5b1a757-a665-479a-ab00-99fab3df9bbb",
     "showTitle": false,
     "title": ""
    }
   },
   "outputs": [
    {
     "output_type": "stream",
     "name": "stdout",
     "output_type": "stream",
     "text": [
      "root\n |-- practice: integer (nullable = true)\n |-- bnf_code: integer (nullable = true)\n |-- bnf_name: integer (nullable = true)\n |-- items: integer (nullable = true)\n |-- nic: double (nullable = true)\n |-- act_cost: double (nullable = true)\n |-- quantity: integer (nullable = true)\n\n"
     ]
    }
   ],
   "source": [
    "df.printSchema()"
   ]
  },
  {
   "cell_type": "code",
   "execution_count": 0,
   "metadata": {
    "application/vnd.databricks.v1+cell": {
     "cellMetadata": {
      "byteLimit": 2048000,
      "rowLimit": 10000
     },
     "inputWidgets": {},
     "nuid": "c1f7f148-9566-44ec-8c54-ea904ad750b8",
     "showTitle": false,
     "title": ""
    }
   },
   "outputs": [
    {
     "output_type": "display_data",
     "data": {
      "text/html": [
       "<style scoped>\n",
       "  .table-result-container {\n",
       "    max-height: 300px;\n",
       "    overflow: auto;\n",
       "  }\n",
       "  table, th, td {\n",
       "    border: 1px solid black;\n",
       "    border-collapse: collapse;\n",
       "  }\n",
       "  th, td {\n",
       "    padding: 5px;\n",
       "  }\n",
       "  th {\n",
       "    text-align: left;\n",
       "  }\n",
       "</style><div class='table-result-container'><table class='table-result'><thead style='background-color: white'><tr><th>practice</th><th>bnf_code</th><th>bnf_name</th><th>items</th><th>nic</th><th>act_cost</th><th>quantity</th></tr></thead><tbody><tr><td>5668</td><td>8092</td><td>592</td><td>2</td><td>44.1</td><td>40.84</td><td>189</td></tr><tr><td>1596</td><td>17512</td><td>16983</td><td>2</td><td>1.64</td><td>1.64</td><td>35</td></tr><tr><td>1596</td><td>25587</td><td>16124</td><td>1</td><td>1.26</td><td>1.28</td><td>42</td></tr><tr><td>1596</td><td>12551</td><td>1282</td><td>2</td><td>0.86</td><td>1.02</td><td>42</td></tr><tr><td>1596</td><td>18938</td><td>10575</td><td>1</td><td>1.85</td><td>1.82</td><td>56</td></tr><tr><td>1596</td><td>8777</td><td>21507</td><td>1</td><td>3.31</td><td>3.18</td><td>56</td></tr><tr><td>1596</td><td>9369</td><td>12008</td><td>1</td><td>63.15</td><td>58.56</td><td>56</td></tr><tr><td>1596</td><td>27926</td><td>17643</td><td>2</td><td>158.66</td><td>147.07</td><td>56</td></tr><tr><td>1596</td><td>26148</td><td>10230</td><td>1</td><td>0.35</td><td>0.44</td><td>14</td></tr><tr><td>1596</td><td>9148</td><td>3381</td><td>1</td><td>0.26</td><td>0.35</td><td>7</td></tr></tbody></table></div>"
      ]
     },
     "metadata": {
      "application/vnd.databricks.v1+output": {
       "addedWidgets": {},
       "aggData": [],
       "aggError": "",
       "aggOverflow": false,
       "aggSchema": [],
       "aggSeriesLimitReached": false,
       "aggType": "",
       "arguments": {},
       "columnCustomDisplayInfos": {},
       "data": [
        [
         5668,
         8092,
         592,
         2,
         44.1,
         40.84,
         189
        ],
        [
         1596,
         17512,
         16983,
         2,
         1.64,
         1.64,
         35
        ],
        [
         1596,
         25587,
         16124,
         1,
         1.26,
         1.28,
         42
        ],
        [
         1596,
         12551,
         1282,
         2,
         0.86,
         1.02,
         42
        ],
        [
         1596,
         18938,
         10575,
         1,
         1.85,
         1.82,
         56
        ],
        [
         1596,
         8777,
         21507,
         1,
         3.31,
         3.18,
         56
        ],
        [
         1596,
         9369,
         12008,
         1,
         63.15,
         58.56,
         56
        ],
        [
         1596,
         27926,
         17643,
         2,
         158.66,
         147.07,
         56
        ],
        [
         1596,
         26148,
         10230,
         1,
         0.35,
         0.44,
         14
        ],
        [
         1596,
         9148,
         3381,
         1,
         0.26,
         0.35,
         7
        ]
       ],
       "datasetInfos": [],
       "dbfsResultPath": null,
       "isJsonSchema": true,
       "metadata": {},
       "overflow": false,
       "plotOptions": {
        "customPlotOptions": {},
        "displayType": "table",
        "pivotAggregation": null,
        "pivotColumns": null,
        "xColumns": null,
        "yColumns": null
       },
       "removedWidgets": [],
       "schema": [
        {
         "metadata": "{}",
         "name": "practice",
         "type": "\"long\""
        },
        {
         "metadata": "{}",
         "name": "bnf_code",
         "type": "\"long\""
        },
        {
         "metadata": "{}",
         "name": "bnf_name",
         "type": "\"long\""
        },
        {
         "metadata": "{}",
         "name": "items",
         "type": "\"long\""
        },
        {
         "metadata": "{}",
         "name": "nic",
         "type": "\"double\""
        },
        {
         "metadata": "{}",
         "name": "act_cost",
         "type": "\"double\""
        },
        {
         "metadata": "{}",
         "name": "quantity",
         "type": "\"long\""
        }
       ],
       "type": "table"
      }
     },
     "output_type": "display_data"
    }
   ],
   "source": [
    "# imprime as 10 primeiras linhas do dataframe\n",
    "display(df.head(10))"
   ]
  },
  {
   "cell_type": "code",
   "execution_count": 0,
   "metadata": {
    "application/vnd.databricks.v1+cell": {
     "cellMetadata": {
      "byteLimit": 2048000,
      "rowLimit": 10000
     },
     "inputWidgets": {},
     "nuid": "2098fa60-63d6-482b-a480-83c04f2dae39",
     "showTitle": false,
     "title": ""
    }
   },
   "outputs": [
    {
     "output_type": "execute_result",
     "data": {
      "text/plain": [
       "412902128"
      ]
     },
     "execution_count": 4,
     "metadata": {},
     "output_type": "execute_result"
    }
   ],
   "source": [
    "# conta a quantidade de linhas\n",
    "df.count()"
   ]
  },
  {
   "cell_type": "markdown",
   "metadata": {
    "application/vnd.databricks.v1+cell": {
     "cellMetadata": {},
     "inputWidgets": {},
     "nuid": "bb957d53-61a9-44ba-b015-96b7602da482",
     "showTitle": false,
     "title": ""
    }
   },
   "source": [
    "#### Leva os dados convertidos para a Processing Zone\n",
    "\n",
    "- *Atente para NÃO escrever e ler arquivos parquet em versoes diferentes*"
   ]
  },
  {
   "cell_type": "code",
   "execution_count": 0,
   "metadata": {
    "application/vnd.databricks.v1+cell": {
     "cellMetadata": {
      "byteLimit": 2048000,
      "rowLimit": 10000
     },
     "inputWidgets": {},
     "nuid": "476165ff-ae7a-41ec-bd17-78671a1ff384",
     "showTitle": false,
     "title": ""
    }
   },
   "outputs": [],
   "source": [
    "# Converte para formato parquet\n",
    "df.write.format(\"parquet\")\\\n",
    ".mode(\"overwrite\")\\\n",
    ".save(\"/FileStore/tables/processing/df-parquet-file.parquet\")"
   ]
  },
  {
   "cell_type": "code",
   "execution_count": 0,
   "metadata": {
    "application/vnd.databricks.v1+cell": {
     "cellMetadata": {
      "byteLimit": 2048000,
      "rowLimit": 10000
     },
     "inputWidgets": {},
     "nuid": "6b95633e-bc64-4427-8850-904fa5c7c85e",
     "showTitle": false,
     "title": ""
    }
   },
   "outputs": [],
   "source": [
    "# lendo arquivos parquet\n",
    "# atente para a velocidade de leitura\n",
    "\n",
    "df_parquet = spark.read.format(\"parquet\")\\\n",
    ".load(\"/FileStore/tables/processing/df-parquet-file.parquet\")"
   ]
  },
  {
   "cell_type": "code",
   "execution_count": 0,
   "metadata": {
    "application/vnd.databricks.v1+cell": {
     "cellMetadata": {
      "byteLimit": 2048000,
      "rowLimit": 10000
     },
     "inputWidgets": {},
     "nuid": "a8546c0f-4cc4-483e-a186-deede8f5076d",
     "showTitle": false,
     "title": ""
    }
   },
   "outputs": [
    {
     "output_type": "execute_result",
     "data": {
      "text/plain": [
       "412902128"
      ]
     },
     "execution_count": 7,
     "metadata": {},
     "output_type": "execute_result"
    }
   ],
   "source": [
    "# conta a quantidade de linhas do dataframe\n",
    "df_parquet.count()"
   ]
  },
  {
   "cell_type": "code",
   "execution_count": 0,
   "metadata": {
    "application/vnd.databricks.v1+cell": {
     "cellMetadata": {
      "byteLimit": 2048000,
      "rowLimit": 10000
     },
     "inputWidgets": {},
     "nuid": "2c5dce14-c0d9-4ad4-8800-c4733d5377e1",
     "showTitle": true,
     "title": "Script para obter o tamanho do dataset"
    }
   },
   "outputs": [
    {
     "output_type": "display_data",
     "data": {
      "text/html": [
       "<style scoped>\n",
       "  .ansiout {\n",
       "    display: block;\n",
       "    unicode-bidi: embed;\n",
       "    white-space: pre-wrap;\n",
       "    word-wrap: break-word;\n",
       "    word-break: break-all;\n",
       "    font-family: \"Menlo\", \"Monaco\", \"Consolas\", \"Ubuntu Mono\", \"Source Code Pro\", monospace;\n",
       "    font-size: 13px;\n",
       "    color: #555;\n",
       "    margin-left: 4px;\n",
       "    line-height: 19px;\n",
       "  }\n",
       "</style>\n",
       "<div class=\"ansiout\">path: String = /FileStore/tables/processing/df-parquet-file.parquet\n",
       "filelist: Seq[com.databricks.backend.daemon.dbutils.FileInfo] = ArrayBuffer(FileInfo(dbfs:/FileStore/tables/processing/df-parquet-file.parquet/_SUCCESS, _SUCCESS, 0, 1702075195000), FileInfo(dbfs:/FileStore/tables/processing/df-parquet-file.parquet/_committed_2953286110468920287, _committed_2953286110468920287, 11624, 1702075195000), FileInfo(dbfs:/FileStore/tables/processing/df-parquet-file.parquet/_started_2953286110468920287, _started_2953286110468920287, 0, 1702073697000), FileInfo(dbfs:/FileStore/tables/processing/df-parquet-file.parquet/part-00000-tid-2953286110468920287-7fde7996-565e-4159-a200-d9e20210e07b-353-1-c000.snappy.parquet, part-00000-tid-2953286110468920287-7fde7996-565e-4159-a200-d9e20210e07b-353-1-c000.snappy.parquet, 43318185, 1702073823000), FileInfo(dbfs:/FileStore/tables/processing/df-parquet-file.parquet/part-00001-tid-2953286110468920287-7fde7996-565e-4159-a200-d9e20210e07b-354-1-c000.snappy.parquet, part-00001-tid-2953286110468920287-7fde7996-565e-4159-a200-d9e20210e07b-354-1-c000.snappy.parquet, 43239474, 1702073823000), FileInfo(dbfs:/FileStore/tables/processing/df-parquet-file.parquet/part-00002-tid-2953286110468920287-7fde7996-565e-4159-a200-d9e20210e07b-355-1-c000.snappy.parquet, part-00002-tid-2953286110468920287-7fde7996-565e-4159-a200-d9e20210e07b-355-1-c000.snappy.parquet, 43318185, 1702073823000), FileInfo(dbfs:/FileStore/tables/processing/df-parquet-file.parquet/part-00003-tid-2953286110468920287-7fde7996-565e-4159-a200-d9e20210e07b-356-1-c000.snappy.parquet, part-00003-tid-2953286110468920287-7fde7996-565e-4159-a200-d9e20210e07b-356-1-c000.snappy.parquet, 43239474, 1702073823000), FileInfo(dbfs:/FileStore/tables/processing/df-parquet-file.parquet/part-00004-tid-2953286110468920287-7fde7996-565e-4159-a200-d9e20210e07b-357-1-c000.snappy.parquet, part-00004-tid-2953286110468920287-7fde7996-565e-4159-a200-d9e20210e07b-357-1-c000.snappy.parquet, 43318185, 1702073822000), FileInfo(dbfs:/FileStore/tables/processing/df-parquet-file.parquet/part-00005-tid-2953286110468920287-7fde7996-565e-4159-a200-d9e20210e07b-358-1-c000.snappy.parquet, part-00005-tid-2953286110468920287-7fde7996-565e-4159-a200-d9e20210e07b-358-1-c000.snappy.parquet, 43239474, 1702073823000), FileInfo(dbfs:/FileStore/tables/processing/df-parquet-file.parquet/part-00006-tid-2953286110468920287-7fde7996-565e-4159-a200-d9e20210e07b-359-1-c000.snappy.parquet, part-00006-tid-2953286110468920287-7fde7996-565e-4159-a200-d9e20210e07b-359-1-c000.snappy.parquet, 43410342, 1702073825000), FileInfo(dbfs:/FileStore/tables/processing/df-parquet-file.parquet/part-00007-tid-2953286110468920287-7fde7996-565e-4159-a200-d9e20210e07b-360-1-c000.snappy.parquet, part-00007-tid-2953286110468920287-7fde7996-565e-4159-a200-d9e20210e07b-360-1-c000.snappy.parquet, 43275632, 1702073822000), FileInfo(dbfs:/FileStore/tables/processing/df-parquet-file.parquet/part-00008-tid-2953286110468920287-7fde7996-565e-4159-a200-d9e20210e07b-361-1-c000.snappy.parquet, part-00008-tid-2953286110468920287-7fde7996-565e-4159-a200-d9e20210e07b-361-1-c000.snappy.parquet, 43410342, 1702073939000), FileInfo(dbfs:/FileStore/tables/processing/df-parquet-file.parquet/part-00009-tid-2953286110468920287-7fde7996-565e-4159-a200-d9e20210e07b-362-1-c000.snappy.parquet, part-00009-tid-2953286110468920287-7fde7996-565e-4159-a200-d9e20210e07b-362-1-c000.snappy.parquet, 43275632, 1702073945000), FileInfo(dbfs:/FileStore/tables/processing/df-parquet-file.parquet/part-00010-tid-2953286110468920287-7fde7996-565e-4159-a200-d9e20210e07b-363-1-c000.snappy.parquet, part-00010-tid-2953286110468920287-7fde7996-565e-4159-a200-d9e20210e07b-363-1-c000.snappy.parquet, 43410342, 1702073943000), FileInfo(dbfs:/FileStore/tables/processing/df-parquet-file.parquet/part-00011-tid-2953286110468920287-7fde7996-565e-4159-a200-d9e20210e07b-364-1-c000.snappy.parquet, part-00011-tid-2953286110468920287-7fde7996-565e-4159-a200-d9e20210e07b-364-1-c000.snappy.parquet, 43275632, 1702073948000), FileInfo(dbfs:/FileStore/tables/processing/df-parquet-file.parquet/part-00012-tid-2953286110468920287-7fde7996-565e-4159-a200-d9e20210e07b-365-1-c000.snappy.parquet, part-00012-tid-2953286110468920287-7fde7996-565e-4159-a200-d9e20210e07b-365-1-c000.snappy.parquet, 43278145, 1702073950000), FileInfo(dbfs:/FileStore/tables/processing/df-parquet-file.parquet/part-00013-tid-2953286110468920287-7fde7996-565e-4159-a200-d9e20210e07b-366-1-c000.snappy.parquet, part-00013-tid-2953286110468920287-7fde7996-565e-4159-a200-d9e20210e07b-366-1-c000.snappy.parquet, 43216526, 1702073948000), FileInfo(dbfs:/FileStore/tables/processing/df-parquet-file.parquet/part-00014-tid-2953286110468920287-7fde7996-565e-4159-a200-d9e20210e07b-367-1-c000.snappy.parquet, part-00014-tid-2953286110468920287-7fde7996-565e-4159-a200-d9e20210e07b-367-1-c000.snappy.parquet, 43278145, 1702073947000), FileInfo(dbfs:/FileStore/tables/processing/df-parquet-file.parquet/part-00015-tid-2953286110468920287-7fde7996-565e-4159-a200-d9e20210e07b-368-1-c000.snappy.parquet, part-00015-tid-2953286110468920287-7fde7996-565e-4159-a200-d9e20210e07b-368-1-c000.snappy.parquet, 43216526, 1702073948000), FileInfo(dbfs:/FileStore/tables/processing/df-parquet-file.parquet/part-00016-tid-2953286110468920287-7fde7996-565e-4159-a200-d9e20210e07b-369-1-c000.snappy.parquet, part-00016-tid-2953286110468920287-7fde7996-565e-4159-a200-d9e20210e07b-369-1-c000.snappy.parquet, 43278145, 1702074035000), FileInfo(dbfs:/FileStore/tables/processing/df-parquet-file.parquet/part-00017-tid-2953286110468920287-7fde7996-565e-4159-a200-d9e20210e07b-370-1-c000.snappy.parquet, part-00017-tid-2953286110468920287-7fde7996-565e-4159-a200-d9e20210e07b-370-1-c000.snappy.parquet, 43216526, 1702074065000), FileInfo(dbfs:/FileStore/tables/processing/df-parquet-file.parquet/part-00018-tid-2953286110468920287-7fde7996-565e-4159-a200-d9e20210e07b-371-1-c000.snappy.parquet, part-00018-tid-2953286110468920287-7fde7996-565e-4159-a200-d9e20210e07b-371-1-c000.snappy.parquet, 43302398, 1702074056000), FileInfo(dbfs:/FileStore/tables/processing/df-parquet-file.parquet/part-00019-tid-2953286110468920287-7fde7996-565e-4159-a200-d9e20210e07b-372-1-c000.snappy.parquet, part-00019-tid-2953286110468920287-7fde7996-565e-4159-a200-d9e20210e07b-372-1-c000.snappy.parquet, 43242242, 1702074076000), FileInfo(dbfs:/FileStore/tables/processing/df-parquet-file.parquet/part-00020-tid-2953286110468920287-7fde7996-565e-4159-a200-d9e20210e07b-373-1-c000.snappy.parquet, part-00020-tid-2953286110468920287-7fde7996-565e-4159-a200-d9e20210e07b-373-1-c000.snappy.parquet, 43302398, 1702074075000), FileInfo(dbfs:/FileStore/tables/processing/df-parquet-file.parquet/part-00021-tid-2953286110468920287-7fde7996-565e-4159-a200-d9e20210e07b-374-1-c000.snappy.parquet, part-00021-tid-2953286110468920287-7fde7996-565e-4159-a200-d9e20210e07b-374-1-c000.snappy.parquet, 43242242, 1702074073000), FileInfo(dbfs:/FileStore/tables/processing/df-parquet-file.parquet/part-00022-tid-2953286110468920287-7fde7996-565e-4159-a200-d9e20210e07b-375-1-c000.snappy.parquet, part-00022-tid-2953286110468920287-7fde7996-565e-4159-a200-d9e20210e07b-375-1-c000.snappy.parquet, 43302398, 1702074075000), FileInfo(dbfs:/FileStore/tables/processing/df-parquet-file.parquet/part-00023-tid-2953286110468920287-7fde7996-565e-4159-a200-d9e20210e07b-376-1-c000.snappy.parquet, part-00023-tid-2953286110468920287-7fde7996-565e-4159-a200-d9e20210e07b-376-1-c000.snappy.parquet, 43242242, 1702074072000), FileInfo(dbfs:/FileStore/tables/processing/df-parquet-file.parquet/part-00024-tid-2953286110468920287-7fde7996-565e-4159-a200-d9e20210e07b-377-1-c000.snappy.parquet, part-00024-tid-2953286110468920287-7fde7996-565e-4159-a200-d9e20210e07b-377-1-c000.snappy.parquet, 43502653, 1702074138000), FileInfo(dbfs:/FileStore/tables/processing/df-parquet-file.parquet/part-00025-tid-2953286110468920287-7fde7996-565e-4159-a200-d9e20210e07b-378-1-c000.snappy.parquet, part-00025-tid-2953286110468920287-7fde7996-565e-4159-a200-d9e20210e07b-378-1-c000.snappy.parquet, 43537568, 1702074156000), FileInfo(dbfs:/FileStore/tables/processing/df-parquet-file.parquet/part-00026-tid-2953286110468920287-7fde7996-565e-4159-a200-d9e20210e07b-379-1-c000.snappy.parquet, part-00026-tid-2953286110468920287-7fde7996-565e-4159-a200-d9e20210e07b-379-1-c000.snappy.parquet, 43502653, 1702074171000), FileInfo(dbfs:/FileStore/tables/processing/df-parquet-file.parquet/part-00027-tid-2953286110468920287-7fde7996-565e-4159-a200-d9e20210e07b-380-1-c000.snappy.parquet, part-00027-tid-2953286110468920287-7fde7996-565e-4159-a200-d9e20210e07b-380-1-c000.snappy.parquet, 43537568, 1702074187000), FileInfo(dbfs:/FileStore/tables/processing/df-parquet-file.parquet/part-00028-tid-2953286110468920287-7fde7996-565e-4159-a200-d9e20210e07b-381-1-c000.snappy.parquet, part-00028-tid-2953286110468920287-7fde7996-565e-4159-a200-d9e20210e07b-381-1-c000.snappy.parquet, 43502653, 1702074193000), FileInfo(dbfs:/FileStore/tables/processing/df-parquet-file.parquet/part-00029-tid-2953286110468920287-7fde7996-565e-4159-a200-d9e20210e07b-382-1-c000.snappy.parquet, part-00029-tid-2953286110468920287-7fde7996-565e-4159-a200-d9e20210e07b-382-1-c000.snappy.parquet, 43537568, 1702074193000), FileInfo(dbfs:/FileStore/tables/processing/df-parquet-file.parquet/part-00030-tid-2953286110468920287-7fde7996-565e-4159-a200-d9e20210e07b-383-1-c000.snappy.parquet, part-00030-tid-2953286110468920287-7fde7996-565e-4159-a200-d9e20210e07b-383-1-c000.snappy.parquet, 43475746, 1702074195000), FileInfo(dbfs:/FileStore/tables/processing/df-parquet-file.parquet/part-00031-tid-2953286110468920287-7fde7996-565e-4159-a200-d9e20210e07b-384-1-c000.snappy.parquet, part-00031-tid-2953286110468920287-7fde7996-565e-4159-a200-d9e20210e07b-384-1-c000.snappy.parquet, 43643834, 1702074196000), FileInfo(dbfs:/FileStore/tables/processing/df-parquet-file.parquet/part-00032-tid-2953286110468920287-7fde7996-565e-4159-a200-d9e20210e07b-385-1-c000.snappy.parquet, part-00032-tid-2953286110468920287-7fde7996-565e-4159-a200-d9e20210e07b-385-1-c000.snappy.parquet, 43475746, 1702074246000), FileInfo(dbfs:/FileStore/tables/processing/df-parquet-file.parquet/part-00033-tid-2953286110468920287-7fde7996-565e-4159-a200-d9e20210e07b-386-1-c000.snappy.parquet, part-00033-tid-2953286110468920287-7fde7996-565e-4159-a200-d9e20210e07b-386-1-c000.snappy.parquet, 43643834, 1702074263000), FileInfo(dbfs:/FileStore/tables/processing/df-parquet-file.parquet/part-00034-tid-2953286110468920287-7fde7996-565e-4159-a200-d9e20210e07b-387-1-c000.snappy.parquet, part-00034-tid-2953286110468920287-7fde7996-565e-4159-a200-d9e20210e07b-387-1-c000.snappy.parquet, 43475746, 1702074280000), FileInfo(dbfs:/FileStore/tables/processing/df-parquet-file.parquet/part-00035-tid-2953286110468920287-7fde7996-565e-4159-a200-d9e20210e07b-388-1-c000.snappy.parquet, part-00035-tid-2953286110468920287-7fde7996-565e-4159-a200-d9e20210e07b-388-1-c000.snappy.parquet, 43643834, 1702074297000), FileInfo(dbfs:/FileStore/tables/processing/df-parquet-file.parquet/part-00036-tid-2953286110468920287-7fde7996-565e-4159-a200-d9e20210e07b-389-1-c000.snappy.parquet, part-00036-tid-2953286110468920287-7fde7996-565e-4159-a200-d9e20210e07b-389-1-c000.snappy.parquet, 43523502, 1702074309000), FileInfo(dbfs:/FileStore/tables/processing/df-parquet-file.parquet/part-00037-tid-2953286110468920287-7fde7996-565e-4159-a200-d9e20210e07b-390-1-c000.snappy.parquet, part-00037-tid-2953286110468920287-7fde7996-565e-4159-a200-d9e20210e07b-390-1-c000.snappy.parquet, 43482993, 1702074313000), FileInfo(dbfs:/FileStore/tables/processing/df-parquet-file.parquet/part-00038-tid-2953286110468920287-7fde7996-565e-4159-a200-d9e20210e07b-391-1-c000.snappy.parquet, part-00038-tid-2953286110468920287-7fde7996-565e-4159-a200-d9e20210e07b-391-1-c000.snappy.parquet, 43523502, 1702074315000), FileInfo(dbfs:/FileStore/tables/processing/df-parquet-file.parquet/part-00039-tid-2953286110468920287-7fde7996-565e-4159-a200-d9e20210e07b-392-1-c000.snappy.parquet, part-00039-tid-2953286110468920287-7fde7996-565e-4159-a200-d9e20210e07b-392-1-c000.snappy.parquet, 43482993, 1702074315000), FileInfo(dbfs:/FileStore/tables/processing/df-parquet-file.parquet/part-00040-tid-2953286110468920287-7fde7996-565e-4159-a200-d9e20210e07b-393-1-c000.snappy.parquet, part-00040-tid-2953286110468920287-7fde7996-565e-4159-a200-d9e20210e07b-393-1-c000.snappy.parquet, 43523502, 1702074362000), FileInfo(dbfs:/FileStore/tables/processing/df-parquet-file.parquet/part-00041-tid-2953286110468920287-7fde7996-565e-4159-a200-d9e20210e07b-394-1-c000.snappy.parquet, part-00041-tid-2953286110468920287-7fde7996-565e-4159-a200-d9e20210e07b-394-1-c000.snappy.parquet, 43482993, 1702074378000), FileInfo(dbfs:/FileStore/tables/processing/df-parquet-file.parquet/part-00042-tid-2953286110468920287-7fde7996-565e-4159-a200-d9e20210e07b-395-1-c000.snappy.parquet, part-00042-tid-2953286110468920287-7fde7996-565e-4159-a200-d9e20210e07b-395-1-c000.snappy.parquet, 43448280, 1702074395000), FileInfo(dbfs:/FileStore/tables/processing/df-parquet-file.parquet/part-00043-tid-2953286110468920287-7fde7996-565e-4159-a200-d9e20210e07b-396-1-c000.snappy.parquet, part-00043-tid-2953286110468920287-7fde7996-565e-4159-a200-d9e20210e07b-396-1-c000.snappy.parquet, 43395663, 1702074411000), FileInfo(dbfs:/FileStore/tables/processing/df-parquet-file.parquet/part-00044-tid-2953286110468920287-7fde7996-565e-4159-a200-d9e20210e07b-397-1-c000.snappy.parquet, part-00044-tid-2953286110468920287-7fde7996-565e-4159-a200-d9e20210e07b-397-1-c000.snappy.parquet, 43448280, 1702074430000), FileInfo(dbfs:/FileStore/tables/processing/df-parquet-file.parquet/part-00045-tid-2953286110468920287-7fde7996-565e-4159-a200-d9e20210e07b-398-1-c000.snappy.parquet, part-00045-tid-2953286110468920287-7fde7996-565e-4159-a200-d9e20210e07b-398-1-c000.snappy.parquet, 43395663, 1702074437000), FileInfo(dbfs:/FileStore/tables/processing/df-parquet-file.parquet/part-00046-tid-2953286110468920287-7fde7996-565e-4159-a200-d9e20210e07b-399-1-c000.snappy.parquet, part-00046-tid-2953286110468920287-7fde7996-565e-4159-a200-d9e20210e07b-399-1-c000.snappy.parquet, 43448280, 1702074435000), FileInfo(dbfs:/FileStore/tables/processing/df-parquet-file.parquet/part-00047-tid-2953286110468920287-7fde7996-565e-4159-a200-d9e20210e07b-400-1-c000.snappy.parquet, part-00047-tid-2953286110468920287-7fde7996-565e-4159-a200-d9e20210e07b-400-1-c000.snappy.parquet, 43395663, 1702074436000), FileInfo(dbfs:/FileStore/tables/processing/df-parquet-file.parquet/part-00048-tid-2953286110468920287-7fde7996-565e-4159-a200-d9e20210e07b-401-1-c000.snappy.parquet, part-00048-tid-2953286110468920287-7fde7996-565e-4159-a200-d9e20210e07b-401-1-c000.snappy.parquet, 43301606, 1702074475000), FileInfo(dbfs:/FileStore/tables/processing/df-parquet-file.parquet/part-00049-tid-2953286110468920287-7fde7996-565e-4159-a200-d9e20210e07b-402-1-c000.snappy.parquet, part-00049-tid-2953286110468920287-7fde7996-565e-4159-a200-d9e20210e07b-402-1-c000.snappy.parquet, 43166718, 1702074493000), FileInfo(dbfs:/FileStore/tables/processing/df-parquet-file.parquet/part-00050-tid-2953286110468920287-7fde7996-565e-4159-a200-d9e20210e07b-403-1-c000.snappy.parquet, part-00050-tid-2953286110468920287-7fde7996-565e-4159-a200-d9e20210e07b-403-1-c000.snappy.parquet, 43301606, 1702074509000), FileInfo(dbfs:/FileStore/tables/processing/df-parquet-file.parquet/part-00051-tid-2953286110468920287-7fde7996-565e-4159-a200-d9e20210e07b-404-1-c000.snappy.parquet, part-00051-tid-2953286110468920287-7fde7996-565e-4159-a200-d9e20210e07b-404-1-c000.snappy.parquet, 43166718, 1702074525000), FileInfo(dbfs:/FileStore/tables/processing/df-parquet-file.parquet/part-00052-tid-2953286110468920287-7fde7996-565e-4159-a200-d9e20210e07b-405-1-c000.snappy.parquet, part-00052-tid-2953286110468920287-7fde7996-565e-4159-a200-d9e20210e07b-405-1-c000.snappy.parquet, 43301606, 1702074544000), FileInfo(dbfs:/FileStore/tables/processing/df-parquet-file.parquet/part-00053-tid-2953286110468920287-7fde7996-565e-4159-a200-d9e20210e07b-406-1-c000.snappy.parquet, part-00053-tid-2953286110468920287-7fde7996-565e-4159-a200-d9e20210e07b-406-1-c000.snappy.parquet, 43166718, 1702074548000), FileInfo(dbfs:/FileStore/tables/processing/df-parquet-file.parquet/part-00054-tid-2953286110468920287-7fde7996-565e-4159-a200-d9e20210e07b-407-1-c000.snappy.parquet, part-00054-tid-2953286110468920287-7fde7996-565e-4159-a200-d9e20210e07b-407-1-c000.snappy.parquet, 43091634, 1702074554000), FileInfo(dbfs:/FileStore/tables/processing/df-parquet-file.parquet/part-00055-tid-2953286110468920287-7fde7996-565e-4159-a200-d9e20210e07b-408-1-c000.snappy.parquet, part-00055-tid-2953286110468920287-7fde7996-565e-4159-a200-d9e20210e07b-408-1-c000.snappy.parquet, 43048651, 1702074556000), FileInfo(dbfs:/FileStore/tables/processing/df-parquet-file.parquet/part-00056-tid-2953286110468920287-7fde7996-565e-4159-a200-d9e20210e07b-409-1-c000.snappy.parquet, part-00056-tid-2953286110468920287-7fde7996-565e-4159-a200-d9e20210e07b-409-1-c000.snappy.parquet, 43091634, 1702074590000), FileInfo(dbfs:/FileStore/tables/processing/df-parquet-file.parquet/part-00057-tid-2953286110468920287-7fde7996-565e-4159-a200-d9e20210e07b-410-1-c000.snappy.parquet, part-00057-tid-2953286110468920287-7fde7996-565e-4159-a200-d9e20210e07b-410-1-c000.snappy.parquet, 43048651, 1702074608000), FileInfo(dbfs:/FileStore/tables/processing/df-parquet-file.parquet/part-00058-tid-2953286110468920287-7fde7996-565e-4159-a200-d9e20210e07b-411-1-c000.snappy.parquet, part-00058-tid-2953286110468920287-7fde7996-565e-4159-a200-d9e20210e07b-411-1-c000.snappy.parquet, 43091634, 1702074623000), FileInfo(dbfs:/FileStore/tables/processing/df-parquet-file.parquet/part-00059-tid-2953286110468920287-7fde7996-565e-4159-a200-d9e20210e07b-412-1-c000.snappy.parquet, part-00059-tid-2953286110468920287-7fde7996-565e-4159-a200-d9e20210e07b-412-1-c000.snappy.parquet, 43048651, 1702074639000), FileInfo(dbfs:/FileStore/tables/processing/df-parquet-file.parquet/part-00060-tid-2953286110468920287-7fde7996-565e-4159-a200-d9e20210e07b-413-1-c000.snappy.parquet, part-00060-tid-2953286110468920287-7fde7996-565e-4159-a200-d9e20210e07b-413-1-c000.snappy.parquet, 43449072, 1702074658000), FileInfo(dbfs:/FileStore/tables/processing/df-parquet-file.parquet/part-00061-tid-2953286110468920287-7fde7996-565e-4159-a200-d9e20210e07b-414-1-c000.snappy.parquet, part-00061-tid-2953286110468920287-7fde7996-565e-4159-a200-d9e20210e07b-414-1-c000.snappy.parquet, 43408022, 1702074662000), FileInfo(dbfs:/FileStore/tables/processing/df-parquet-file.parquet/part-00062-tid-2953286110468920287-7fde7996-565e-4159-a200-d9e20210e07b-415-1-c000.snappy.parquet, part-00062-tid-2953286110468920287-7fde7996-565e-4159-a200-d9e20210e07b-415-1-c000.snappy.parquet, 43449072, 1702074670000), FileInfo(dbfs:/FileStore/tables/processing/df-parquet-file.parquet/part-00063-tid-2953286110468920287-7fde7996-565e-4159-a200-d9e20210e07b-416-1-c000.snappy.parquet, part-00063-tid-2953286110468920287-7fde7996-565e-4159-a200-d9e20210e07b-416-1-c000.snappy.parquet, 43408022, 1702074672000), FileInfo(dbfs:/FileStore/tables/processing/df-parquet-file.parquet/part-00064-tid-2953286110468920287-7fde7996-565e-4159-a200-d9e20210e07b-417-1-c000.snappy.parquet, part-00064-tid-2953286110468920287-7fde7996-565e-4159-a200-d9e20210e07b-417-1-c000.snappy.parquet, 43449072, 1702074704000), FileInfo(dbfs:/FileStore/tables/processing/df-parquet-file.parquet/part-00065-tid-2953286110468920287-7fde7996-565e-4159-a200-d9e20210e07b-418-1-c000.snappy.parquet, part-00065-tid-2953286110468920287-7fde7996-565e-4159-a200-d9e20210e07b-418-1-c000.snappy.parquet, 43408022, 1702074724000), FileInfo(dbfs:/FileStore/tables/processing/df-parquet-file.parquet/part-00066-tid-2953286110468920287-7fde7996-565e-4159-a200-d9e20210e07b-419-1-c000.snappy.parquet, part-00066-tid-2953286110468920287-7fde7996-565e-4159-a200-d9e20210e07b-419-1-c000.snappy.parquet, 43159278, 1702074739000), FileInfo(dbfs:/FileStore/tables/processing/df-parquet-file.parquet/part-00067-tid-2953286110468920287-7fde7996-565e-4159-a200-d9e20210e07b-420-1-c000.snappy.parquet, part-00067-tid-2953286110468920287-7fde7996-565e-4159-a200-d9e20210e07b-420-1-c000.snappy.parquet, 43091529, 1702074754000), FileInfo(dbfs:/FileStore/tables/processing/df-parquet-file.parquet/part-00068-tid-2953286110468920287-7fde7996-565e-4159-a200-d9e20210e07b-421-1-c000.snappy.parquet, part-00068-tid-2953286110468920287-7fde7996-565e-4159-a200-d9e20210e07b-421-1-c000.snappy.parquet, 43159278, 1702074773000), FileInfo(dbfs:/FileStore/tables/processing/df-parquet-file.parquet/part-00069-tid-2953286110468920287-7fde7996-565e-4159-a200-d9e20210e07b-422-1-c000.snappy.parquet, part-00069-tid-2953286110468920287-7fde7996-565e-4159-a200-d9e20210e07b-422-1-c000.snappy.parquet, 43091529, 1702074776000), FileInfo(dbfs:/FileStore/tables/processing/df-parquet-file.parquet/part-00070-tid-2953286110468920287-7fde7996-565e-4159-a200-d9e20210e07b-423-1-c000.snappy.parquet, part-00070-tid-2953286110468920287-7fde7996-565e-4159-a200-d9e20210e07b-423-1-c000.snappy.parquet, 43159278, 1702074788000), FileInfo(dbfs:/FileStore/tables/processing/df-parquet-file.parquet/part-00071-tid-2953286110468920287-7fde7996-565e-4159-a200-d9e20210e07b-424-1-c000.snappy.parquet, part-00071-tid-2953286110468920287-7fde7996-565e-4159-a200-d9e20210e07b-424-1-c000.snappy.parquet, 43091529, 1702074787000), FileInfo(dbfs:/FileStore/tables/processing/df-parquet-file.parquet/part-00072-tid-2953286110468920287-7fde7996-565e-4159-a200-d9e20210e07b-425-1-c000.snappy.parquet, part-00072-tid-2953286110468920287-7fde7996-565e-4159-a200-d9e20210e07b-425-1-c000.snappy.parquet, 43159278, 1702074819000), FileInfo(dbfs:/FileStore/tables/processing/df-parquet-file.parquet/part-00073-tid-2953286110468920287-7fde7996-565e-4159-a200-d9e20210e07b-426-1-c000.snappy.parquet, part-00073-tid-2953286110468920287-7fde7996-565e-4159-a200-d9e20210e07b-426-1-c000.snappy.parquet, 43091529, 1702074839000), FileInfo(dbfs:/FileStore/tables/processing/df-parquet-file.parquet/part-00074-tid-2953286110468920287-7fde7996-565e-4159-a200-d9e20210e07b-427-1-c000.snappy.parquet, part-00074-tid-2953286110468920287-7fde7996-565e-4159-a200-d9e20210e07b-427-1-c000.snappy.parquet, 43479840, 1702074853000), FileInfo(dbfs:/FileStore/tables/processing/df-parquet-file.parquet/part-00075-tid-2953286110468920287-7fde7996-565e-4159-a200-d9e20210e07b-428-1-c000.snappy.parquet, part-00075-tid-2953286110468920287-7fde7996-565e-4159-a200-d9e20210e07b-428-1-c000.snappy.parquet, 43373804, 1702074870000), FileInfo(dbfs:/FileStore/tables/processing/df-parquet-file.parquet/part-00076-tid-2953286110468920287-7fde7996-565e-4159-a200-d9e20210e07b-429-1-c000.snappy.parquet, part-00076-tid-2953286110468920287-7fde7996-565e-4159-a200-d9e20210e07b-429-1-c000.snappy.parquet, 43479840, 1702074890000), FileInfo(dbfs:/FileStore/tables/processing/df-parquet-file.parquet/part-00077-tid-2953286110468920287-7fde7996-565e-4159-a200-d9e20210e07b-430-1-c000.snappy.parquet, part-00077-tid-2953286110468920287-7fde7996-565e-4159-a200-d9e20210e07b-430-1-c000.snappy.parquet, 43373804, 1702074891000), FileInfo(dbfs:/FileStore/tables/processing/df-parquet-file.parquet/part-00078-tid-2953286110468920287-7fde7996-565e-4159-a200-d9e20210e07b-431-1-c000.snappy.parquet, part-00078-tid-2953286110468920287-7fde7996-565e-4159-a200-d9e20210e07b-431-1-c000.snappy.parquet, 43479840, 1702074904000), FileInfo(dbfs:/FileStore/tables/processing/df-parquet-file.parquet/part-00079-tid-2953286110468920287-7fde7996-565e-4159-a200-d9e20210e07b-432-1-c000.snappy.parquet, part-00079-tid-2953286110468920287-7fde7996-565e-4159-a200-d9e20210e07b-432-1-c000.snappy.parquet, 43373804, 1702074901000), FileInfo(dbfs:/FileStore/tables/processing/df-parquet-file.parquet/part-00080-tid-2953286110468920287-7fde7996-565e-4159-a200-d9e20210e07b-433-1-c000.snappy.parquet, part-00080-tid-2953286110468920287-7fde7996-565e-4159-a200-d9e20210e07b-433-1-c000.snappy.parquet, 43479840, 1702074936000), FileInfo(dbfs:/FileStore/tables/processing/df-parquet-file.parquet/part-00081-tid-2953286110468920287-7fde7996-565e-4159-a200-d9e20210e07b-434-1-c000.snappy.parquet, part-00081-tid-2953286110468920287-7fde7996-565e-4159-a200-d9e20210e07b-434-1-c000.snappy.parquet, 43373804, 1702074959000), FileInfo(dbfs:/FileStore/tables/processing/df-parquet-file.parquet/part-00082-tid-2953286110468920287-7fde7996-565e-4159-a200-d9e20210e07b-435-1-c000.snappy.parquet, part-00082-tid-2953286110468920287-7fde7996-565e-4159-a200-d9e20210e07b-435-1-c000.snappy.parquet, 23343127, 1702074918000), FileInfo(dbfs:/FileStore/tables/processing/df-parquet-file.parquet/part-00083-tid-2953286110468920287-7fde7996-565e-4159-a200-d9e20210e07b-436-1-c000.snappy.parquet, part-00083-tid-2953286110468920287-7fde7996-565e-4159-a200-d9e20210e07b-436-1-c000.snappy.parquet, 23343127, 1702074935000), FileInfo(dbfs:/FileStore/tables/processing/df-parquet-file.parquet/part-00084-tid-2953286110468920287-7fde7996-565e-4159-a200-d9e20210e07b-437-1-c000.snappy.parquet, part-00084-tid-2953286110468920287-7fde7996-565e-4159-a200-d9e20210e07b-437-1-c000.snappy.parquet, 23343127, 1702074956000), FileInfo(dbfs:/FileStore/tables/processing/df-parquet-file.parquet/part-00085-tid-2953286110468920287-7fde7996-565e-4159-a200-d9e20210e07b-438-1-c000.snappy.parquet, part-00085-tid-2953286110468920287-7fde7996-565e-4159-a200-d9e20210e07b-438-1-c000.snappy.parquet, 22782743, 1702074957000), FileInfo(dbfs:/FileStore/tables/processing/df-parquet-file.parquet/part-00086-tid-2953286110468920287-7fde7996-565e-4159-a200-d9e20210e07b-439-1-c000.snappy.parquet, part-00086-tid-2953286110468920287-7fde7996-565e-4159-a200-d9e20210e07b-439-1-c000.snappy.parquet, 22782743, 1702074965000), FileInfo(dbfs:/FileStore/tables/processing/df-parquet-file.parquet/part-00087-tid-2953286110468920287-7fde7996-565e-4159-a200-d9e20210e07b-440-1-c000.snappy.parquet, part-00087-tid-2953286110468920287-7fde7996-565e-4159-a200-d9e20210e07b-440-1-c000.snappy.parquet, 22782743, 1702074968000), FileInfo(dbfs:/FileStore/tables/processing/df-parquet-file.parquet/part-00088-tid-2953286110468920287-7fde7996-565e-4159-a200-d9e20210e07b-441-1-c000.snappy.parquet, part-00088-tid-2953286110468920287-7fde7996-565e-4159-a200-d9e20210e07b-441-1-c000.snappy.parquet, 21982895, 1702074979000), FileInfo(dbfs:/FileStore/tables/processing/df-parquet-file.parquet/part-00089-tid-2953286110468920287-7fde7996-565e-4159-a200-d9e20210e07b-442-1-c000.snappy.parquet, part-00089-tid-2953286110468920287-7fde7996-565e-4159-a200-d9e20210e07b-442-1-c000.snappy.parquet, 21982895, 1702074995000), FileInfo(dbfs:/FileStore/tables/processing/df-parquet-file.parquet/part-00090-tid-2953286110468920287-7fde7996-565e-4159-a200-d9e20210e07b-443-1-c000.snappy.parquet, part-00090-tid-2953286110468920287-7fde7996-565e-4159-a200-d9e20210e07b-443-1-c000.snappy.parquet, 21982895, 1702074997000), FileInfo(dbfs:/FileStore/tables/processing/df-parquet-file.parquet/part-00091-tid-2953286110468920287-7fde7996-565e-4159-a200-d9e20210e07b-444-1-c000.snappy.parquet, part-00091-tid-2953286110468920287-7fde7996-565e-4159-a200-d9e20210e07b-444-1-c000.snappy.parquet, 21786813, 1702075017000), FileInfo(dbfs:/FileStore/tables/processing/df-parquet-file.parquet/part-00092-tid-2953286110468920287-7fde7996-565e-4159-a200-d9e20210e07b-445-1-c000.snappy.parquet, part-00092-tid-2953286110468920287-7fde7996-565e-4159-a200-d9e20210e07b-445-1-c000.snappy.parquet, 21786813, 1702075018000), FileInfo(dbfs:/FileStore/tables/processing/df-parquet-file.parquet/part-00093-tid-2953286110468920287-7fde7996-565e-4159-a200-d9e20210e07b-446-1-c000.snappy.parquet, part-00093-tid-2953286110468920287-7fde7996-565e-4159-a200-d9e20210e07b-446-1-c000.snappy.parquet, 21786813, 1702075019000), FileInfo(dbfs:/FileStore/tables/processing/df-parquet-file.parquet/part-00094-tid-2953286110468920287-7fde7996-565e-4159-a200-d9e20210e07b-447-1-c000.snappy.parquet, part-00094-tid-2953286110468920287-7fde7996-565e-4159-a200-d9e20210e07b-447-1-c000.snappy.parquet, 21705029, 1702075023000), FileInfo(dbfs:/FileStore/tables/processing/df-parquet-file.parquet/part-00095-tid-2953286110468920287-7fde7996-565e-4159-a200-d9e20210e07b-448-1-c000.snappy.parquet, part-00095-tid-2953286110468920287-7fde7996-565e-4159-a200-d9e20210e07b-448-1-c000.snappy.parquet, 21705029, 1702075026000), FileInfo(dbfs:/FileStore/tables/processing/df-parquet-file.parquet/part-00096-tid-2953286110468920287-7fde7996-565e-4159-a200-d9e20210e07b-449-1-c000.snappy.parquet, part-00096-tid-2953286110468920287-7fde7996-565e-4159-a200-d9e20210e07b-449-1-c000.snappy.parquet, 21705029, 1702075037000), FileInfo(dbfs:/FileStore/tables/processing/df-parquet-file.parquet/part-00097-tid-2953286110468920287-7fde7996-565e-4159-a200-d9e20210e07b-450-1-c000.snappy.parquet, part-00097-tid-2953286110468920287-7fde7996-565e-4159-a200-d9e20210e07b-450-1-c000.snappy.parquet, 21586193, 1702075054000), FileInfo(dbfs:/FileStore/tables/processing/df-parquet-file.parquet/part-00098-tid-2953286110468920287-7fde7996-565e-4159-a200-d9e20210e07b-451-1-c000.snappy.parquet, part-00098-tid-2953286110468920287-7fde7996-565e-4159-a200-d9e20210e07b-451-1-c000.snappy.parquet, 21586193, 1702075055000), FileInfo(dbfs:/FileStore/tables/processing/df-parquet-file.parquet/part-00099-tid-2953286110468920287-7fde7996-565e-4159-a200-d9e20210e07b-452-1-c000.snappy.parquet, part-00099-tid-2953286110468920287-7fde7996-565e-4159-a200-d9e20210e07b-452-1-c000.snappy.parquet, 21586193, 1702075073000), FileInfo(dbfs:/FileStore/tables/processing/df-parquet-file.parquet/part-00100-tid-2953286110468920287-7fde7996-565e-4159-a200-d9e20210e07b-453-1-c000.snappy.parquet, part-00100-tid-2953286110468920287-7fde7996-565e-4159-a200-d9e20210e07b-453-1-c000.snappy.parquet, 21453393, 1702075075000), FileInfo(dbfs:/FileStore/tables/processing/df-parquet-file.parquet/part-00101-tid-2953286110468920287-7fde7996-565e-4159-a200-d9e20210e07b-454-1-c000.snappy.parquet, part-00101-tid-2953286110468920287-7fde7996-565e-4159-a200-d9e20210e07b-454-1-c000.snappy.parquet, 21453393, 1702075077000), FileInfo(dbfs:/FileStore/tables/processing/df-parquet-file.parquet/part-00102-tid-2953286110468920287-7fde7996-565e-4159-a200-d9e20210e07b-455-1-c000.snappy.parquet, part-00102-tid-2953286110468920287-7fde7996-565e-4159-a200-d9e20210e07b-455-1-c000.snappy.parquet, 21453393, 1702075081000), FileInfo(dbfs:/FileStore/tables/processing/df-parquet-file.parquet/part-00103-tid-2953286110468920287-7fde7996-565e-4159-a200-d9e20210e07b-456-1-c000.snappy.parquet, part-00103-tid-2953286110468920287-7fde7996-565e-4159-a200-d9e20210e07b-456-1-c000.snappy.parquet, 21453393, 1702075083000), FileInfo(dbfs:/FileStore/tables/processing/df-parquet-file.parquet/part-00104-tid-2953286110468920287-7fde7996-565e-4159-a200-d9e20210e07b-457-1-c000.snappy.parquet, part-00104-tid-2953286110468920287-7fde7996-565e-4159-a200-d9e20210e07b-457-1-c000.snappy.parquet, 21144809, 1702075094000), FileInfo(dbfs:/FileStore/tables/processing/df-parquet-file.parquet/part-00105-tid-2953286110468920287-7fde7996-565e-4159-a200-d9e20210e07b-458-1-c000.snappy.parquet, part-00105-tid-2953286110468920287-7fde7996-565e-4159-a200-d9e20210e07b-458-1-c000.snappy.parquet, 21144809, 1702075111000), FileInfo(dbfs:/FileStore/tables/processing/df-parquet-file.parquet/part-00106-tid-2953286110468920287-7fde7996-565e-4159-a200-d9e20210e07b-459-1-c000.snappy.parquet, part-00106-tid-2953286110468920287-7fde7996-565e-4159-a200-d9e20210e07b-459-1-c000.snappy.parquet, 21144809, 1702075112000), FileInfo(dbfs:/FileStore/tables/processing/df-parquet-file.parquet/part-00107-tid-2953286110468920287-7fde7996-565e-4159-a200-d9e20210e07b-460-1-c000.snappy.parquet, part-00107-tid-2953286110468920287-7fde7996-565e-4159-a200-d9e20210e07b-460-1-c000.snappy.parquet, 20863936, 1702075129000), FileInfo(dbfs:/FileStore/tables/processing/df-parquet-file.parquet/part-00108-tid-2953286110468920287-7fde7996-565e-4159-a200-d9e20210e07b-461-1-c000.snappy.parquet, part-00108-tid-2953286110468920287-7fde7996-565e-4159-a200-d9e20210e07b-461-1-c000.snappy.parquet, 20863936, 1702075131000), FileInfo(dbfs:/FileStore/tables/processing/df-parquet-file.parquet/part-00109-tid-2953286110468920287-7fde7996-565e-4159-a200-d9e20210e07b-462-1-c000.snappy.parquet, part-00109-tid-2953286110468920287-7fde7996-565e-4159-a200-d9e20210e07b-462-1-c000.snappy.parquet, 41865738, 1702075180000), FileInfo(dbfs:/FileStore/tables/processing/df-parquet-file.parquet/part-00110-tid-2953286110468920287-7fde7996-565e-4159-a200-d9e20210e07b-463-1-c000.snappy.parquet, part-00110-tid-2953286110468920287-7fde7996-565e-4159-a200-d9e20210e07b-463-1-c000.snappy.parquet, 41108239, 1702075183000), FileInfo(dbfs:/FileStore/tables/processing/df-parquet-file.parquet/part-00111-tid-2953286110468920287-7fde7996-565e-4159-a200-d9e20210e07b-464-1-c000.snappy.parquet, part-00111-tid-2953286110468920287-7fde7996-565e-4159-a200-d9e20210e07b-464-1-c000.snappy.parquet, 40238319, 1702075185000), FileInfo(dbfs:/FileStore/tables/processing/df-parquet-file.parquet/part-00112-tid-2953286110468920287-7fde7996-565e-4159-a200-d9e20210e07b-465-1-c000.snappy.parquet, part-00112-tid-2953286110468920287-7fde7996-565e-4159-a200-d9e20210e07b-465-1-c000.snappy.parquet, 38286532, 1702075187000), FileInfo(dbfs:/FileStore/tables/processing/df-parquet-file.parquet/part-00113-tid-2953286110468920287-7fde7996-565e-4159-a200-d9e20210e07b-466-1-c000.snappy.parquet, part-00113-tid-2953286110468920287-7fde7996-565e-4159-a200-d9e20210e07b-466-1-c000.snappy.parquet, 35127757, 1702075193000), FileInfo(dbfs:/FileStore/tables/processing/df-parquet-file.parquet/part-00114-tid-2953286110468920287-7fde7996-565e-4159-a200-d9e20210e07b-467-1-c000.snappy.parquet, part-00114-tid-2953286110468920287-7fde7996-565e-4159-a200-d9e20210e07b-467-1-c000.snappy.parquet, 34608524, 1702075193000), FileInfo(dbfs:/FileStore/tables/processing/df-parquet-file.parquet/part-00115-tid-2953286110468920287-7fde7996-565e-4159-a200-d9e20210e07b-468-1-c000.snappy.parquet, part-00115-tid-2953286110468920287-7fde7996-565e-4159-a200-d9e20210e07b-468-1-c000.snappy.parquet, 34608524, 1702075194000))\n",
       "df_temp: org.apache.spark.sql.DataFrame = [path: string, name: string ... 2 more fields]\n",
       "</div>"
      ]
     },
     "metadata": {
      "application/vnd.databricks.v1+output": {
       "addedWidgets": {},
       "arguments": {},
       "data": "<div class=\"ansiout\">path: String = /FileStore/tables/processing/df-parquet-file.parquet\nfilelist: Seq[com.databricks.backend.daemon.dbutils.FileInfo] = ArrayBuffer(FileInfo(dbfs:/FileStore/tables/processing/df-parquet-file.parquet/_SUCCESS, _SUCCESS, 0, 1702075195000), FileInfo(dbfs:/FileStore/tables/processing/df-parquet-file.parquet/_committed_2953286110468920287, _committed_2953286110468920287, 11624, 1702075195000), FileInfo(dbfs:/FileStore/tables/processing/df-parquet-file.parquet/_started_2953286110468920287, _started_2953286110468920287, 0, 1702073697000), FileInfo(dbfs:/FileStore/tables/processing/df-parquet-file.parquet/part-00000-tid-2953286110468920287-7fde7996-565e-4159-a200-d9e20210e07b-353-1-c000.snappy.parquet, part-00000-tid-2953286110468920287-7fde7996-565e-4159-a200-d9e20210e07b-353-1-c000.snappy.parquet, 43318185, 1702073823000), FileInfo(dbfs:/FileStore/tables/processing/df-parquet-file.parquet/part-00001-tid-2953286110468920287-7fde7996-565e-4159-a200-d9e20210e07b-354-1-c000.snappy.parquet, part-00001-tid-2953286110468920287-7fde7996-565e-4159-a200-d9e20210e07b-354-1-c000.snappy.parquet, 43239474, 1702073823000), FileInfo(dbfs:/FileStore/tables/processing/df-parquet-file.parquet/part-00002-tid-2953286110468920287-7fde7996-565e-4159-a200-d9e20210e07b-355-1-c000.snappy.parquet, part-00002-tid-2953286110468920287-7fde7996-565e-4159-a200-d9e20210e07b-355-1-c000.snappy.parquet, 43318185, 1702073823000), FileInfo(dbfs:/FileStore/tables/processing/df-parquet-file.parquet/part-00003-tid-2953286110468920287-7fde7996-565e-4159-a200-d9e20210e07b-356-1-c000.snappy.parquet, part-00003-tid-2953286110468920287-7fde7996-565e-4159-a200-d9e20210e07b-356-1-c000.snappy.parquet, 43239474, 1702073823000), FileInfo(dbfs:/FileStore/tables/processing/df-parquet-file.parquet/part-00004-tid-2953286110468920287-7fde7996-565e-4159-a200-d9e20210e07b-357-1-c000.snappy.parquet, part-00004-tid-2953286110468920287-7fde7996-565e-4159-a200-d9e20210e07b-357-1-c000.snappy.parquet, 43318185, 1702073822000), FileInfo(dbfs:/FileStore/tables/processing/df-parquet-file.parquet/part-00005-tid-2953286110468920287-7fde7996-565e-4159-a200-d9e20210e07b-358-1-c000.snappy.parquet, part-00005-tid-2953286110468920287-7fde7996-565e-4159-a200-d9e20210e07b-358-1-c000.snappy.parquet, 43239474, 1702073823000), FileInfo(dbfs:/FileStore/tables/processing/df-parquet-file.parquet/part-00006-tid-2953286110468920287-7fde7996-565e-4159-a200-d9e20210e07b-359-1-c000.snappy.parquet, part-00006-tid-2953286110468920287-7fde7996-565e-4159-a200-d9e20210e07b-359-1-c000.snappy.parquet, 43410342, 1702073825000), FileInfo(dbfs:/FileStore/tables/processing/df-parquet-file.parquet/part-00007-tid-2953286110468920287-7fde7996-565e-4159-a200-d9e20210e07b-360-1-c000.snappy.parquet, part-00007-tid-2953286110468920287-7fde7996-565e-4159-a200-d9e20210e07b-360-1-c000.snappy.parquet, 43275632, 1702073822000), FileInfo(dbfs:/FileStore/tables/processing/df-parquet-file.parquet/part-00008-tid-2953286110468920287-7fde7996-565e-4159-a200-d9e20210e07b-361-1-c000.snappy.parquet, part-00008-tid-2953286110468920287-7fde7996-565e-4159-a200-d9e20210e07b-361-1-c000.snappy.parquet, 43410342, 1702073939000), FileInfo(dbfs:/FileStore/tables/processing/df-parquet-file.parquet/part-00009-tid-2953286110468920287-7fde7996-565e-4159-a200-d9e20210e07b-362-1-c000.snappy.parquet, part-00009-tid-2953286110468920287-7fde7996-565e-4159-a200-d9e20210e07b-362-1-c000.snappy.parquet, 43275632, 1702073945000), FileInfo(dbfs:/FileStore/tables/processing/df-parquet-file.parquet/part-00010-tid-2953286110468920287-7fde7996-565e-4159-a200-d9e20210e07b-363-1-c000.snappy.parquet, part-00010-tid-2953286110468920287-7fde7996-565e-4159-a200-d9e20210e07b-363-1-c000.snappy.parquet, 43410342, 1702073943000), FileInfo(dbfs:/FileStore/tables/processing/df-parquet-file.parquet/part-00011-tid-2953286110468920287-7fde7996-565e-4159-a200-d9e20210e07b-364-1-c000.snappy.parquet, part-00011-tid-2953286110468920287-7fde7996-565e-4159-a200-d9e20210e07b-364-1-c000.snappy.parquet, 43275632, 1702073948000), FileInfo(dbfs:/FileStore/tables/processing/df-parquet-file.parquet/part-00012-tid-2953286110468920287-7fde7996-565e-4159-a200-d9e20210e07b-365-1-c000.snappy.parquet, part-00012-tid-2953286110468920287-7fde7996-565e-4159-a200-d9e20210e07b-365-1-c000.snappy.parquet, 43278145, 1702073950000), FileInfo(dbfs:/FileStore/tables/processing/df-parquet-file.parquet/part-00013-tid-2953286110468920287-7fde7996-565e-4159-a200-d9e20210e07b-366-1-c000.snappy.parquet, part-00013-tid-2953286110468920287-7fde7996-565e-4159-a200-d9e20210e07b-366-1-c000.snappy.parquet, 43216526, 1702073948000), FileInfo(dbfs:/FileStore/tables/processing/df-parquet-file.parquet/part-00014-tid-2953286110468920287-7fde7996-565e-4159-a200-d9e20210e07b-367-1-c000.snappy.parquet, part-00014-tid-2953286110468920287-7fde7996-565e-4159-a200-d9e20210e07b-367-1-c000.snappy.parquet, 43278145, 1702073947000), FileInfo(dbfs:/FileStore/tables/processing/df-parquet-file.parquet/part-00015-tid-2953286110468920287-7fde7996-565e-4159-a200-d9e20210e07b-368-1-c000.snappy.parquet, part-00015-tid-2953286110468920287-7fde7996-565e-4159-a200-d9e20210e07b-368-1-c000.snappy.parquet, 43216526, 1702073948000), FileInfo(dbfs:/FileStore/tables/processing/df-parquet-file.parquet/part-00016-tid-2953286110468920287-7fde7996-565e-4159-a200-d9e20210e07b-369-1-c000.snappy.parquet, part-00016-tid-2953286110468920287-7fde7996-565e-4159-a200-d9e20210e07b-369-1-c000.snappy.parquet, 43278145, 1702074035000), FileInfo(dbfs:/FileStore/tables/processing/df-parquet-file.parquet/part-00017-tid-2953286110468920287-7fde7996-565e-4159-a200-d9e20210e07b-370-1-c000.snappy.parquet, part-00017-tid-2953286110468920287-7fde7996-565e-4159-a200-d9e20210e07b-370-1-c000.snappy.parquet, 43216526, 1702074065000), FileInfo(dbfs:/FileStore/tables/processing/df-parquet-file.parquet/part-00018-tid-2953286110468920287-7fde7996-565e-4159-a200-d9e20210e07b-371-1-c000.snappy.parquet, part-00018-tid-2953286110468920287-7fde7996-565e-4159-a200-d9e20210e07b-371-1-c000.snappy.parquet, 43302398, 1702074056000), FileInfo(dbfs:/FileStore/tables/processing/df-parquet-file.parquet/part-00019-tid-2953286110468920287-7fde7996-565e-4159-a200-d9e20210e07b-372-1-c000.snappy.parquet, part-00019-tid-2953286110468920287-7fde7996-565e-4159-a200-d9e20210e07b-372-1-c000.snappy.parquet, 43242242, 1702074076000), FileInfo(dbfs:/FileStore/tables/processing/df-parquet-file.parquet/part-00020-tid-2953286110468920287-7fde7996-565e-4159-a200-d9e20210e07b-373-1-c000.snappy.parquet, part-00020-tid-2953286110468920287-7fde7996-565e-4159-a200-d9e20210e07b-373-1-c000.snappy.parquet, 43302398, 1702074075000), FileInfo(dbfs:/FileStore/tables/processing/df-parquet-file.parquet/part-00021-tid-2953286110468920287-7fde7996-565e-4159-a200-d9e20210e07b-374-1-c000.snappy.parquet, part-00021-tid-2953286110468920287-7fde7996-565e-4159-a200-d9e20210e07b-374-1-c000.snappy.parquet, 43242242, 1702074073000), FileInfo(dbfs:/FileStore/tables/processing/df-parquet-file.parquet/part-00022-tid-2953286110468920287-7fde7996-565e-4159-a200-d9e20210e07b-375-1-c000.snappy.parquet, part-00022-tid-2953286110468920287-7fde7996-565e-4159-a200-d9e20210e07b-375-1-c000.snappy.parquet, 43302398, 1702074075000), FileInfo(dbfs:/FileStore/tables/processing/df-parquet-file.parquet/part-00023-tid-2953286110468920287-7fde7996-565e-4159-a200-d9e20210e07b-376-1-c000.snappy.parquet, part-00023-tid-2953286110468920287-7fde7996-565e-4159-a200-d9e20210e07b-376-1-c000.snappy.parquet, 43242242, 1702074072000), FileInfo(dbfs:/FileStore/tables/processing/df-parquet-file.parquet/part-00024-tid-2953286110468920287-7fde7996-565e-4159-a200-d9e20210e07b-377-1-c000.snappy.parquet, part-00024-tid-2953286110468920287-7fde7996-565e-4159-a200-d9e20210e07b-377-1-c000.snappy.parquet, 43502653, 1702074138000), FileInfo(dbfs:/FileStore/tables/processing/df-parquet-file.parquet/part-00025-tid-2953286110468920287-7fde7996-565e-4159-a200-d9e20210e07b-378-1-c000.snappy.parquet, part-00025-tid-2953286110468920287-7fde7996-565e-4159-a200-d9e20210e07b-378-1-c000.snappy.parquet, 43537568, 1702074156000), FileInfo(dbfs:/FileStore/tables/processing/df-parquet-file.parquet/part-00026-tid-2953286110468920287-7fde7996-565e-4159-a200-d9e20210e07b-379-1-c000.snappy.parquet, part-00026-tid-2953286110468920287-7fde7996-565e-4159-a200-d9e20210e07b-379-1-c000.snappy.parquet, 43502653, 1702074171000), FileInfo(dbfs:/FileStore/tables/processing/df-parquet-file.parquet/part-00027-tid-2953286110468920287-7fde7996-565e-4159-a200-d9e20210e07b-380-1-c000.snappy.parquet, part-00027-tid-2953286110468920287-7fde7996-565e-4159-a200-d9e20210e07b-380-1-c000.snappy.parquet, 43537568, 1702074187000), FileInfo(dbfs:/FileStore/tables/processing/df-parquet-file.parquet/part-00028-tid-2953286110468920287-7fde7996-565e-4159-a200-d9e20210e07b-381-1-c000.snappy.parquet, part-00028-tid-2953286110468920287-7fde7996-565e-4159-a200-d9e20210e07b-381-1-c000.snappy.parquet, 43502653, 1702074193000), FileInfo(dbfs:/FileStore/tables/processing/df-parquet-file.parquet/part-00029-tid-2953286110468920287-7fde7996-565e-4159-a200-d9e20210e07b-382-1-c000.snappy.parquet, part-00029-tid-2953286110468920287-7fde7996-565e-4159-a200-d9e20210e07b-382-1-c000.snappy.parquet, 43537568, 1702074193000), FileInfo(dbfs:/FileStore/tables/processing/df-parquet-file.parquet/part-00030-tid-2953286110468920287-7fde7996-565e-4159-a200-d9e20210e07b-383-1-c000.snappy.parquet, part-00030-tid-2953286110468920287-7fde7996-565e-4159-a200-d9e20210e07b-383-1-c000.snappy.parquet, 43475746, 1702074195000), FileInfo(dbfs:/FileStore/tables/processing/df-parquet-file.parquet/part-00031-tid-2953286110468920287-7fde7996-565e-4159-a200-d9e20210e07b-384-1-c000.snappy.parquet, part-00031-tid-2953286110468920287-7fde7996-565e-4159-a200-d9e20210e07b-384-1-c000.snappy.parquet, 43643834, 1702074196000), FileInfo(dbfs:/FileStore/tables/processing/df-parquet-file.parquet/part-00032-tid-2953286110468920287-7fde7996-565e-4159-a200-d9e20210e07b-385-1-c000.snappy.parquet, part-00032-tid-2953286110468920287-7fde7996-565e-4159-a200-d9e20210e07b-385-1-c000.snappy.parquet, 43475746, 1702074246000), FileInfo(dbfs:/FileStore/tables/processing/df-parquet-file.parquet/part-00033-tid-2953286110468920287-7fde7996-565e-4159-a200-d9e20210e07b-386-1-c000.snappy.parquet, part-00033-tid-2953286110468920287-7fde7996-565e-4159-a200-d9e20210e07b-386-1-c000.snappy.parquet, 43643834, 1702074263000), FileInfo(dbfs:/FileStore/tables/processing/df-parquet-file.parquet/part-00034-tid-2953286110468920287-7fde7996-565e-4159-a200-d9e20210e07b-387-1-c000.snappy.parquet, part-00034-tid-2953286110468920287-7fde7996-565e-4159-a200-d9e20210e07b-387-1-c000.snappy.parquet, 43475746, 1702074280000), FileInfo(dbfs:/FileStore/tables/processing/df-parquet-file.parquet/part-00035-tid-2953286110468920287-7fde7996-565e-4159-a200-d9e20210e07b-388-1-c000.snappy.parquet, part-00035-tid-2953286110468920287-7fde7996-565e-4159-a200-d9e20210e07b-388-1-c000.snappy.parquet, 43643834, 1702074297000), FileInfo(dbfs:/FileStore/tables/processing/df-parquet-file.parquet/part-00036-tid-2953286110468920287-7fde7996-565e-4159-a200-d9e20210e07b-389-1-c000.snappy.parquet, part-00036-tid-2953286110468920287-7fde7996-565e-4159-a200-d9e20210e07b-389-1-c000.snappy.parquet, 43523502, 1702074309000), FileInfo(dbfs:/FileStore/tables/processing/df-parquet-file.parquet/part-00037-tid-2953286110468920287-7fde7996-565e-4159-a200-d9e20210e07b-390-1-c000.snappy.parquet, part-00037-tid-2953286110468920287-7fde7996-565e-4159-a200-d9e20210e07b-390-1-c000.snappy.parquet, 43482993, 1702074313000), FileInfo(dbfs:/FileStore/tables/processing/df-parquet-file.parquet/part-00038-tid-2953286110468920287-7fde7996-565e-4159-a200-d9e20210e07b-391-1-c000.snappy.parquet, part-00038-tid-2953286110468920287-7fde7996-565e-4159-a200-d9e20210e07b-391-1-c000.snappy.parquet, 43523502, 1702074315000), FileInfo(dbfs:/FileStore/tables/processing/df-parquet-file.parquet/part-00039-tid-2953286110468920287-7fde7996-565e-4159-a200-d9e20210e07b-392-1-c000.snappy.parquet, part-00039-tid-2953286110468920287-7fde7996-565e-4159-a200-d9e20210e07b-392-1-c000.snappy.parquet, 43482993, 1702074315000), FileInfo(dbfs:/FileStore/tables/processing/df-parquet-file.parquet/part-00040-tid-2953286110468920287-7fde7996-565e-4159-a200-d9e20210e07b-393-1-c000.snappy.parquet, part-00040-tid-2953286110468920287-7fde7996-565e-4159-a200-d9e20210e07b-393-1-c000.snappy.parquet, 43523502, 1702074362000), FileInfo(dbfs:/FileStore/tables/processing/df-parquet-file.parquet/part-00041-tid-2953286110468920287-7fde7996-565e-4159-a200-d9e20210e07b-394-1-c000.snappy.parquet, part-00041-tid-2953286110468920287-7fde7996-565e-4159-a200-d9e20210e07b-394-1-c000.snappy.parquet, 43482993, 1702074378000), FileInfo(dbfs:/FileStore/tables/processing/df-parquet-file.parquet/part-00042-tid-2953286110468920287-7fde7996-565e-4159-a200-d9e20210e07b-395-1-c000.snappy.parquet, part-00042-tid-2953286110468920287-7fde7996-565e-4159-a200-d9e20210e07b-395-1-c000.snappy.parquet, 43448280, 1702074395000), FileInfo(dbfs:/FileStore/tables/processing/df-parquet-file.parquet/part-00043-tid-2953286110468920287-7fde7996-565e-4159-a200-d9e20210e07b-396-1-c000.snappy.parquet, part-00043-tid-2953286110468920287-7fde7996-565e-4159-a200-d9e20210e07b-396-1-c000.snappy.parquet, 43395663, 1702074411000), FileInfo(dbfs:/FileStore/tables/processing/df-parquet-file.parquet/part-00044-tid-2953286110468920287-7fde7996-565e-4159-a200-d9e20210e07b-397-1-c000.snappy.parquet, part-00044-tid-2953286110468920287-7fde7996-565e-4159-a200-d9e20210e07b-397-1-c000.snappy.parquet, 43448280, 1702074430000), FileInfo(dbfs:/FileStore/tables/processing/df-parquet-file.parquet/part-00045-tid-2953286110468920287-7fde7996-565e-4159-a200-d9e20210e07b-398-1-c000.snappy.parquet, part-00045-tid-2953286110468920287-7fde7996-565e-4159-a200-d9e20210e07b-398-1-c000.snappy.parquet, 43395663, 1702074437000), FileInfo(dbfs:/FileStore/tables/processing/df-parquet-file.parquet/part-00046-tid-2953286110468920287-7fde7996-565e-4159-a200-d9e20210e07b-399-1-c000.snappy.parquet, part-00046-tid-2953286110468920287-7fde7996-565e-4159-a200-d9e20210e07b-399-1-c000.snappy.parquet, 43448280, 1702074435000), FileInfo(dbfs:/FileStore/tables/processing/df-parquet-file.parquet/part-00047-tid-2953286110468920287-7fde7996-565e-4159-a200-d9e20210e07b-400-1-c000.snappy.parquet, part-00047-tid-2953286110468920287-7fde7996-565e-4159-a200-d9e20210e07b-400-1-c000.snappy.parquet, 43395663, 1702074436000), FileInfo(dbfs:/FileStore/tables/processing/df-parquet-file.parquet/part-00048-tid-2953286110468920287-7fde7996-565e-4159-a200-d9e20210e07b-401-1-c000.snappy.parquet, part-00048-tid-2953286110468920287-7fde7996-565e-4159-a200-d9e20210e07b-401-1-c000.snappy.parquet, 43301606, 1702074475000), FileInfo(dbfs:/FileStore/tables/processing/df-parquet-file.parquet/part-00049-tid-2953286110468920287-7fde7996-565e-4159-a200-d9e20210e07b-402-1-c000.snappy.parquet, part-00049-tid-2953286110468920287-7fde7996-565e-4159-a200-d9e20210e07b-402-1-c000.snappy.parquet, 43166718, 1702074493000), FileInfo(dbfs:/FileStore/tables/processing/df-parquet-file.parquet/part-00050-tid-2953286110468920287-7fde7996-565e-4159-a200-d9e20210e07b-403-1-c000.snappy.parquet, part-00050-tid-2953286110468920287-7fde7996-565e-4159-a200-d9e20210e07b-403-1-c000.snappy.parquet, 43301606, 1702074509000), FileInfo(dbfs:/FileStore/tables/processing/df-parquet-file.parquet/part-00051-tid-2953286110468920287-7fde7996-565e-4159-a200-d9e20210e07b-404-1-c000.snappy.parquet, part-00051-tid-2953286110468920287-7fde7996-565e-4159-a200-d9e20210e07b-404-1-c000.snappy.parquet, 43166718, 1702074525000), FileInfo(dbfs:/FileStore/tables/processing/df-parquet-file.parquet/part-00052-tid-2953286110468920287-7fde7996-565e-4159-a200-d9e20210e07b-405-1-c000.snappy.parquet, part-00052-tid-2953286110468920287-7fde7996-565e-4159-a200-d9e20210e07b-405-1-c000.snappy.parquet, 43301606, 1702074544000), FileInfo(dbfs:/FileStore/tables/processing/df-parquet-file.parquet/part-00053-tid-2953286110468920287-7fde7996-565e-4159-a200-d9e20210e07b-406-1-c000.snappy.parquet, part-00053-tid-2953286110468920287-7fde7996-565e-4159-a200-d9e20210e07b-406-1-c000.snappy.parquet, 43166718, 1702074548000), FileInfo(dbfs:/FileStore/tables/processing/df-parquet-file.parquet/part-00054-tid-2953286110468920287-7fde7996-565e-4159-a200-d9e20210e07b-407-1-c000.snappy.parquet, part-00054-tid-2953286110468920287-7fde7996-565e-4159-a200-d9e20210e07b-407-1-c000.snappy.parquet, 43091634, 1702074554000), FileInfo(dbfs:/FileStore/tables/processing/df-parquet-file.parquet/part-00055-tid-2953286110468920287-7fde7996-565e-4159-a200-d9e20210e07b-408-1-c000.snappy.parquet, part-00055-tid-2953286110468920287-7fde7996-565e-4159-a200-d9e20210e07b-408-1-c000.snappy.parquet, 43048651, 1702074556000), FileInfo(dbfs:/FileStore/tables/processing/df-parquet-file.parquet/part-00056-tid-2953286110468920287-7fde7996-565e-4159-a200-d9e20210e07b-409-1-c000.snappy.parquet, part-00056-tid-2953286110468920287-7fde7996-565e-4159-a200-d9e20210e07b-409-1-c000.snappy.parquet, 43091634, 1702074590000), FileInfo(dbfs:/FileStore/tables/processing/df-parquet-file.parquet/part-00057-tid-2953286110468920287-7fde7996-565e-4159-a200-d9e20210e07b-410-1-c000.snappy.parquet, part-00057-tid-2953286110468920287-7fde7996-565e-4159-a200-d9e20210e07b-410-1-c000.snappy.parquet, 43048651, 1702074608000), FileInfo(dbfs:/FileStore/tables/processing/df-parquet-file.parquet/part-00058-tid-2953286110468920287-7fde7996-565e-4159-a200-d9e20210e07b-411-1-c000.snappy.parquet, part-00058-tid-2953286110468920287-7fde7996-565e-4159-a200-d9e20210e07b-411-1-c000.snappy.parquet, 43091634, 1702074623000), FileInfo(dbfs:/FileStore/tables/processing/df-parquet-file.parquet/part-00059-tid-2953286110468920287-7fde7996-565e-4159-a200-d9e20210e07b-412-1-c000.snappy.parquet, part-00059-tid-2953286110468920287-7fde7996-565e-4159-a200-d9e20210e07b-412-1-c000.snappy.parquet, 43048651, 1702074639000), FileInfo(dbfs:/FileStore/tables/processing/df-parquet-file.parquet/part-00060-tid-2953286110468920287-7fde7996-565e-4159-a200-d9e20210e07b-413-1-c000.snappy.parquet, part-00060-tid-2953286110468920287-7fde7996-565e-4159-a200-d9e20210e07b-413-1-c000.snappy.parquet, 43449072, 1702074658000), FileInfo(dbfs:/FileStore/tables/processing/df-parquet-file.parquet/part-00061-tid-2953286110468920287-7fde7996-565e-4159-a200-d9e20210e07b-414-1-c000.snappy.parquet, part-00061-tid-2953286110468920287-7fde7996-565e-4159-a200-d9e20210e07b-414-1-c000.snappy.parquet, 43408022, 1702074662000), FileInfo(dbfs:/FileStore/tables/processing/df-parquet-file.parquet/part-00062-tid-2953286110468920287-7fde7996-565e-4159-a200-d9e20210e07b-415-1-c000.snappy.parquet, part-00062-tid-2953286110468920287-7fde7996-565e-4159-a200-d9e20210e07b-415-1-c000.snappy.parquet, 43449072, 1702074670000), FileInfo(dbfs:/FileStore/tables/processing/df-parquet-file.parquet/part-00063-tid-2953286110468920287-7fde7996-565e-4159-a200-d9e20210e07b-416-1-c000.snappy.parquet, part-00063-tid-2953286110468920287-7fde7996-565e-4159-a200-d9e20210e07b-416-1-c000.snappy.parquet, 43408022, 1702074672000), FileInfo(dbfs:/FileStore/tables/processing/df-parquet-file.parquet/part-00064-tid-2953286110468920287-7fde7996-565e-4159-a200-d9e20210e07b-417-1-c000.snappy.parquet, part-00064-tid-2953286110468920287-7fde7996-565e-4159-a200-d9e20210e07b-417-1-c000.snappy.parquet, 43449072, 1702074704000), FileInfo(dbfs:/FileStore/tables/processing/df-parquet-file.parquet/part-00065-tid-2953286110468920287-7fde7996-565e-4159-a200-d9e20210e07b-418-1-c000.snappy.parquet, part-00065-tid-2953286110468920287-7fde7996-565e-4159-a200-d9e20210e07b-418-1-c000.snappy.parquet, 43408022, 1702074724000), FileInfo(dbfs:/FileStore/tables/processing/df-parquet-file.parquet/part-00066-tid-2953286110468920287-7fde7996-565e-4159-a200-d9e20210e07b-419-1-c000.snappy.parquet, part-00066-tid-2953286110468920287-7fde7996-565e-4159-a200-d9e20210e07b-419-1-c000.snappy.parquet, 43159278, 1702074739000), FileInfo(dbfs:/FileStore/tables/processing/df-parquet-file.parquet/part-00067-tid-2953286110468920287-7fde7996-565e-4159-a200-d9e20210e07b-420-1-c000.snappy.parquet, part-00067-tid-2953286110468920287-7fde7996-565e-4159-a200-d9e20210e07b-420-1-c000.snappy.parquet, 43091529, 1702074754000), FileInfo(dbfs:/FileStore/tables/processing/df-parquet-file.parquet/part-00068-tid-2953286110468920287-7fde7996-565e-4159-a200-d9e20210e07b-421-1-c000.snappy.parquet, part-00068-tid-2953286110468920287-7fde7996-565e-4159-a200-d9e20210e07b-421-1-c000.snappy.parquet, 43159278, 1702074773000), FileInfo(dbfs:/FileStore/tables/processing/df-parquet-file.parquet/part-00069-tid-2953286110468920287-7fde7996-565e-4159-a200-d9e20210e07b-422-1-c000.snappy.parquet, part-00069-tid-2953286110468920287-7fde7996-565e-4159-a200-d9e20210e07b-422-1-c000.snappy.parquet, 43091529, 1702074776000), FileInfo(dbfs:/FileStore/tables/processing/df-parquet-file.parquet/part-00070-tid-2953286110468920287-7fde7996-565e-4159-a200-d9e20210e07b-423-1-c000.snappy.parquet, part-00070-tid-2953286110468920287-7fde7996-565e-4159-a200-d9e20210e07b-423-1-c000.snappy.parquet, 43159278, 1702074788000), FileInfo(dbfs:/FileStore/tables/processing/df-parquet-file.parquet/part-00071-tid-2953286110468920287-7fde7996-565e-4159-a200-d9e20210e07b-424-1-c000.snappy.parquet, part-00071-tid-2953286110468920287-7fde7996-565e-4159-a200-d9e20210e07b-424-1-c000.snappy.parquet, 43091529, 1702074787000), FileInfo(dbfs:/FileStore/tables/processing/df-parquet-file.parquet/part-00072-tid-2953286110468920287-7fde7996-565e-4159-a200-d9e20210e07b-425-1-c000.snappy.parquet, part-00072-tid-2953286110468920287-7fde7996-565e-4159-a200-d9e20210e07b-425-1-c000.snappy.parquet, 43159278, 1702074819000), FileInfo(dbfs:/FileStore/tables/processing/df-parquet-file.parquet/part-00073-tid-2953286110468920287-7fde7996-565e-4159-a200-d9e20210e07b-426-1-c000.snappy.parquet, part-00073-tid-2953286110468920287-7fde7996-565e-4159-a200-d9e20210e07b-426-1-c000.snappy.parquet, 43091529, 1702074839000), FileInfo(dbfs:/FileStore/tables/processing/df-parquet-file.parquet/part-00074-tid-2953286110468920287-7fde7996-565e-4159-a200-d9e20210e07b-427-1-c000.snappy.parquet, part-00074-tid-2953286110468920287-7fde7996-565e-4159-a200-d9e20210e07b-427-1-c000.snappy.parquet, 43479840, 1702074853000), FileInfo(dbfs:/FileStore/tables/processing/df-parquet-file.parquet/part-00075-tid-2953286110468920287-7fde7996-565e-4159-a200-d9e20210e07b-428-1-c000.snappy.parquet, part-00075-tid-2953286110468920287-7fde7996-565e-4159-a200-d9e20210e07b-428-1-c000.snappy.parquet, 43373804, 1702074870000), FileInfo(dbfs:/FileStore/tables/processing/df-parquet-file.parquet/part-00076-tid-2953286110468920287-7fde7996-565e-4159-a200-d9e20210e07b-429-1-c000.snappy.parquet, part-00076-tid-2953286110468920287-7fde7996-565e-4159-a200-d9e20210e07b-429-1-c000.snappy.parquet, 43479840, 1702074890000), FileInfo(dbfs:/FileStore/tables/processing/df-parquet-file.parquet/part-00077-tid-2953286110468920287-7fde7996-565e-4159-a200-d9e20210e07b-430-1-c000.snappy.parquet, part-00077-tid-2953286110468920287-7fde7996-565e-4159-a200-d9e20210e07b-430-1-c000.snappy.parquet, 43373804, 1702074891000), FileInfo(dbfs:/FileStore/tables/processing/df-parquet-file.parquet/part-00078-tid-2953286110468920287-7fde7996-565e-4159-a200-d9e20210e07b-431-1-c000.snappy.parquet, part-00078-tid-2953286110468920287-7fde7996-565e-4159-a200-d9e20210e07b-431-1-c000.snappy.parquet, 43479840, 1702074904000), FileInfo(dbfs:/FileStore/tables/processing/df-parquet-file.parquet/part-00079-tid-2953286110468920287-7fde7996-565e-4159-a200-d9e20210e07b-432-1-c000.snappy.parquet, part-00079-tid-2953286110468920287-7fde7996-565e-4159-a200-d9e20210e07b-432-1-c000.snappy.parquet, 43373804, 1702074901000), FileInfo(dbfs:/FileStore/tables/processing/df-parquet-file.parquet/part-00080-tid-2953286110468920287-7fde7996-565e-4159-a200-d9e20210e07b-433-1-c000.snappy.parquet, part-00080-tid-2953286110468920287-7fde7996-565e-4159-a200-d9e20210e07b-433-1-c000.snappy.parquet, 43479840, 1702074936000), FileInfo(dbfs:/FileStore/tables/processing/df-parquet-file.parquet/part-00081-tid-2953286110468920287-7fde7996-565e-4159-a200-d9e20210e07b-434-1-c000.snappy.parquet, part-00081-tid-2953286110468920287-7fde7996-565e-4159-a200-d9e20210e07b-434-1-c000.snappy.parquet, 43373804, 1702074959000), FileInfo(dbfs:/FileStore/tables/processing/df-parquet-file.parquet/part-00082-tid-2953286110468920287-7fde7996-565e-4159-a200-d9e20210e07b-435-1-c000.snappy.parquet, part-00082-tid-2953286110468920287-7fde7996-565e-4159-a200-d9e20210e07b-435-1-c000.snappy.parquet, 23343127, 1702074918000), FileInfo(dbfs:/FileStore/tables/processing/df-parquet-file.parquet/part-00083-tid-2953286110468920287-7fde7996-565e-4159-a200-d9e20210e07b-436-1-c000.snappy.parquet, part-00083-tid-2953286110468920287-7fde7996-565e-4159-a200-d9e20210e07b-436-1-c000.snappy.parquet, 23343127, 1702074935000), FileInfo(dbfs:/FileStore/tables/processing/df-parquet-file.parquet/part-00084-tid-2953286110468920287-7fde7996-565e-4159-a200-d9e20210e07b-437-1-c000.snappy.parquet, part-00084-tid-2953286110468920287-7fde7996-565e-4159-a200-d9e20210e07b-437-1-c000.snappy.parquet, 23343127, 1702074956000), FileInfo(dbfs:/FileStore/tables/processing/df-parquet-file.parquet/part-00085-tid-2953286110468920287-7fde7996-565e-4159-a200-d9e20210e07b-438-1-c000.snappy.parquet, part-00085-tid-2953286110468920287-7fde7996-565e-4159-a200-d9e20210e07b-438-1-c000.snappy.parquet, 22782743, 1702074957000), FileInfo(dbfs:/FileStore/tables/processing/df-parquet-file.parquet/part-00086-tid-2953286110468920287-7fde7996-565e-4159-a200-d9e20210e07b-439-1-c000.snappy.parquet, part-00086-tid-2953286110468920287-7fde7996-565e-4159-a200-d9e20210e07b-439-1-c000.snappy.parquet, 22782743, 1702074965000), FileInfo(dbfs:/FileStore/tables/processing/df-parquet-file.parquet/part-00087-tid-2953286110468920287-7fde7996-565e-4159-a200-d9e20210e07b-440-1-c000.snappy.parquet, part-00087-tid-2953286110468920287-7fde7996-565e-4159-a200-d9e20210e07b-440-1-c000.snappy.parquet, 22782743, 1702074968000), FileInfo(dbfs:/FileStore/tables/processing/df-parquet-file.parquet/part-00088-tid-2953286110468920287-7fde7996-565e-4159-a200-d9e20210e07b-441-1-c000.snappy.parquet, part-00088-tid-2953286110468920287-7fde7996-565e-4159-a200-d9e20210e07b-441-1-c000.snappy.parquet, 21982895, 1702074979000), FileInfo(dbfs:/FileStore/tables/processing/df-parquet-file.parquet/part-00089-tid-2953286110468920287-7fde7996-565e-4159-a200-d9e20210e07b-442-1-c000.snappy.parquet, part-00089-tid-2953286110468920287-7fde7996-565e-4159-a200-d9e20210e07b-442-1-c000.snappy.parquet, 21982895, 1702074995000), FileInfo(dbfs:/FileStore/tables/processing/df-parquet-file.parquet/part-00090-tid-2953286110468920287-7fde7996-565e-4159-a200-d9e20210e07b-443-1-c000.snappy.parquet, part-00090-tid-2953286110468920287-7fde7996-565e-4159-a200-d9e20210e07b-443-1-c000.snappy.parquet, 21982895, 1702074997000), FileInfo(dbfs:/FileStore/tables/processing/df-parquet-file.parquet/part-00091-tid-2953286110468920287-7fde7996-565e-4159-a200-d9e20210e07b-444-1-c000.snappy.parquet, part-00091-tid-2953286110468920287-7fde7996-565e-4159-a200-d9e20210e07b-444-1-c000.snappy.parquet, 21786813, 1702075017000), FileInfo(dbfs:/FileStore/tables/processing/df-parquet-file.parquet/part-00092-tid-2953286110468920287-7fde7996-565e-4159-a200-d9e20210e07b-445-1-c000.snappy.parquet, part-00092-tid-2953286110468920287-7fde7996-565e-4159-a200-d9e20210e07b-445-1-c000.snappy.parquet, 21786813, 1702075018000), FileInfo(dbfs:/FileStore/tables/processing/df-parquet-file.parquet/part-00093-tid-2953286110468920287-7fde7996-565e-4159-a200-d9e20210e07b-446-1-c000.snappy.parquet, part-00093-tid-2953286110468920287-7fde7996-565e-4159-a200-d9e20210e07b-446-1-c000.snappy.parquet, 21786813, 1702075019000), FileInfo(dbfs:/FileStore/tables/processing/df-parquet-file.parquet/part-00094-tid-2953286110468920287-7fde7996-565e-4159-a200-d9e20210e07b-447-1-c000.snappy.parquet, part-00094-tid-2953286110468920287-7fde7996-565e-4159-a200-d9e20210e07b-447-1-c000.snappy.parquet, 21705029, 1702075023000), FileInfo(dbfs:/FileStore/tables/processing/df-parquet-file.parquet/part-00095-tid-2953286110468920287-7fde7996-565e-4159-a200-d9e20210e07b-448-1-c000.snappy.parquet, part-00095-tid-2953286110468920287-7fde7996-565e-4159-a200-d9e20210e07b-448-1-c000.snappy.parquet, 21705029, 1702075026000), FileInfo(dbfs:/FileStore/tables/processing/df-parquet-file.parquet/part-00096-tid-2953286110468920287-7fde7996-565e-4159-a200-d9e20210e07b-449-1-c000.snappy.parquet, part-00096-tid-2953286110468920287-7fde7996-565e-4159-a200-d9e20210e07b-449-1-c000.snappy.parquet, 21705029, 1702075037000), FileInfo(dbfs:/FileStore/tables/processing/df-parquet-file.parquet/part-00097-tid-2953286110468920287-7fde7996-565e-4159-a200-d9e20210e07b-450-1-c000.snappy.parquet, part-00097-tid-2953286110468920287-7fde7996-565e-4159-a200-d9e20210e07b-450-1-c000.snappy.parquet, 21586193, 1702075054000), FileInfo(dbfs:/FileStore/tables/processing/df-parquet-file.parquet/part-00098-tid-2953286110468920287-7fde7996-565e-4159-a200-d9e20210e07b-451-1-c000.snappy.parquet, part-00098-tid-2953286110468920287-7fde7996-565e-4159-a200-d9e20210e07b-451-1-c000.snappy.parquet, 21586193, 1702075055000), FileInfo(dbfs:/FileStore/tables/processing/df-parquet-file.parquet/part-00099-tid-2953286110468920287-7fde7996-565e-4159-a200-d9e20210e07b-452-1-c000.snappy.parquet, part-00099-tid-2953286110468920287-7fde7996-565e-4159-a200-d9e20210e07b-452-1-c000.snappy.parquet, 21586193, 1702075073000), FileInfo(dbfs:/FileStore/tables/processing/df-parquet-file.parquet/part-00100-tid-2953286110468920287-7fde7996-565e-4159-a200-d9e20210e07b-453-1-c000.snappy.parquet, part-00100-tid-2953286110468920287-7fde7996-565e-4159-a200-d9e20210e07b-453-1-c000.snappy.parquet, 21453393, 1702075075000), FileInfo(dbfs:/FileStore/tables/processing/df-parquet-file.parquet/part-00101-tid-2953286110468920287-7fde7996-565e-4159-a200-d9e20210e07b-454-1-c000.snappy.parquet, part-00101-tid-2953286110468920287-7fde7996-565e-4159-a200-d9e20210e07b-454-1-c000.snappy.parquet, 21453393, 1702075077000), FileInfo(dbfs:/FileStore/tables/processing/df-parquet-file.parquet/part-00102-tid-2953286110468920287-7fde7996-565e-4159-a200-d9e20210e07b-455-1-c000.snappy.parquet, part-00102-tid-2953286110468920287-7fde7996-565e-4159-a200-d9e20210e07b-455-1-c000.snappy.parquet, 21453393, 1702075081000), FileInfo(dbfs:/FileStore/tables/processing/df-parquet-file.parquet/part-00103-tid-2953286110468920287-7fde7996-565e-4159-a200-d9e20210e07b-456-1-c000.snappy.parquet, part-00103-tid-2953286110468920287-7fde7996-565e-4159-a200-d9e20210e07b-456-1-c000.snappy.parquet, 21453393, 1702075083000), FileInfo(dbfs:/FileStore/tables/processing/df-parquet-file.parquet/part-00104-tid-2953286110468920287-7fde7996-565e-4159-a200-d9e20210e07b-457-1-c000.snappy.parquet, part-00104-tid-2953286110468920287-7fde7996-565e-4159-a200-d9e20210e07b-457-1-c000.snappy.parquet, 21144809, 1702075094000), FileInfo(dbfs:/FileStore/tables/processing/df-parquet-file.parquet/part-00105-tid-2953286110468920287-7fde7996-565e-4159-a200-d9e20210e07b-458-1-c000.snappy.parquet, part-00105-tid-2953286110468920287-7fde7996-565e-4159-a200-d9e20210e07b-458-1-c000.snappy.parquet, 21144809, 1702075111000), FileInfo(dbfs:/FileStore/tables/processing/df-parquet-file.parquet/part-00106-tid-2953286110468920287-7fde7996-565e-4159-a200-d9e20210e07b-459-1-c000.snappy.parquet, part-00106-tid-2953286110468920287-7fde7996-565e-4159-a200-d9e20210e07b-459-1-c000.snappy.parquet, 21144809, 1702075112000), FileInfo(dbfs:/FileStore/tables/processing/df-parquet-file.parquet/part-00107-tid-2953286110468920287-7fde7996-565e-4159-a200-d9e20210e07b-460-1-c000.snappy.parquet, part-00107-tid-2953286110468920287-7fde7996-565e-4159-a200-d9e20210e07b-460-1-c000.snappy.parquet, 20863936, 1702075129000), FileInfo(dbfs:/FileStore/tables/processing/df-parquet-file.parquet/part-00108-tid-2953286110468920287-7fde7996-565e-4159-a200-d9e20210e07b-461-1-c000.snappy.parquet, part-00108-tid-2953286110468920287-7fde7996-565e-4159-a200-d9e20210e07b-461-1-c000.snappy.parquet, 20863936, 1702075131000), FileInfo(dbfs:/FileStore/tables/processing/df-parquet-file.parquet/part-00109-tid-2953286110468920287-7fde7996-565e-4159-a200-d9e20210e07b-462-1-c000.snappy.parquet, part-00109-tid-2953286110468920287-7fde7996-565e-4159-a200-d9e20210e07b-462-1-c000.snappy.parquet, 41865738, 1702075180000), FileInfo(dbfs:/FileStore/tables/processing/df-parquet-file.parquet/part-00110-tid-2953286110468920287-7fde7996-565e-4159-a200-d9e20210e07b-463-1-c000.snappy.parquet, part-00110-tid-2953286110468920287-7fde7996-565e-4159-a200-d9e20210e07b-463-1-c000.snappy.parquet, 41108239, 1702075183000), FileInfo(dbfs:/FileStore/tables/processing/df-parquet-file.parquet/part-00111-tid-2953286110468920287-7fde7996-565e-4159-a200-d9e20210e07b-464-1-c000.snappy.parquet, part-00111-tid-2953286110468920287-7fde7996-565e-4159-a200-d9e20210e07b-464-1-c000.snappy.parquet, 40238319, 1702075185000), FileInfo(dbfs:/FileStore/tables/processing/df-parquet-file.parquet/part-00112-tid-2953286110468920287-7fde7996-565e-4159-a200-d9e20210e07b-465-1-c000.snappy.parquet, part-00112-tid-2953286110468920287-7fde7996-565e-4159-a200-d9e20210e07b-465-1-c000.snappy.parquet, 38286532, 1702075187000), FileInfo(dbfs:/FileStore/tables/processing/df-parquet-file.parquet/part-00113-tid-2953286110468920287-7fde7996-565e-4159-a200-d9e20210e07b-466-1-c000.snappy.parquet, part-00113-tid-2953286110468920287-7fde7996-565e-4159-a200-d9e20210e07b-466-1-c000.snappy.parquet, 35127757, 1702075193000), FileInfo(dbfs:/FileStore/tables/processing/df-parquet-file.parquet/part-00114-tid-2953286110468920287-7fde7996-565e-4159-a200-d9e20210e07b-467-1-c000.snappy.parquet, part-00114-tid-2953286110468920287-7fde7996-565e-4159-a200-d9e20210e07b-467-1-c000.snappy.parquet, 34608524, 1702075193000), FileInfo(dbfs:/FileStore/tables/processing/df-parquet-file.parquet/part-00115-tid-2953286110468920287-7fde7996-565e-4159-a200-d9e20210e07b-468-1-c000.snappy.parquet, part-00115-tid-2953286110468920287-7fde7996-565e-4159-a200-d9e20210e07b-468-1-c000.snappy.parquet, 34608524, 1702075194000))\ndf_temp: org.apache.spark.sql.DataFrame = [path: string, name: string ... 2 more fields]\n</div>",
       "datasetInfos": [
        {
         "name": "df_temp",
         "schema": {
          "fields": [
           {
            "metadata": {},
            "name": "path",
            "nullable": true,
            "type": "string"
           },
           {
            "metadata": {},
            "name": "name",
            "nullable": true,
            "type": "string"
           },
           {
            "metadata": {},
            "name": "size",
            "nullable": false,
            "type": "long"
           },
           {
            "metadata": {},
            "name": "modificationTime",
            "nullable": false,
            "type": "long"
           }
          ],
          "type": "struct"
         },
         "tableIdentifier": null,
         "typeStr": "org.apache.spark.sql.DataFrame"
        }
       ],
       "metadata": {},
       "removedWidgets": [],
       "type": "html"
      }
     },
     "output_type": "display_data"
    }
   ],
   "source": [
    "%scala\n",
    "// script para pegar tamanho em Gigabytes\n",
    "val path=\"/FileStore/tables/processing/df-parquet-file.parquet\"\n",
    "val filelist=dbutils.fs.ls(path)\n",
    "val df_temp = filelist.toDF()\n",
    "df_temp.createOrReplaceTempView(\"adlsSize\")\n"
   ]
  },
  {
   "cell_type": "code",
   "execution_count": 0,
   "metadata": {
    "application/vnd.databricks.v1+cell": {
     "cellMetadata": {
      "byteLimit": 2048000,
      "implicitDf": true,
      "rowLimit": 10000
     },
     "inputWidgets": {},
     "nuid": "3e7a3b85-085f-4e0e-8b9b-5984eea31b28",
     "showTitle": false,
     "title": ""
    }
   },
   "outputs": [
    {
     "output_type": "display_data",
     "data": {
      "text/html": [
       "<style scoped>\n",
       "  .table-result-container {\n",
       "    max-height: 300px;\n",
       "    overflow: auto;\n",
       "  }\n",
       "  table, th, td {\n",
       "    border: 1px solid black;\n",
       "    border-collapse: collapse;\n",
       "  }\n",
       "  th, td {\n",
       "    padding: 5px;\n",
       "  }\n",
       "  th {\n",
       "    text-align: left;\n",
       "  }\n",
       "</style><div class='table-result-container'><table class='table-result'><thead style='background-color: white'><tr><th>sizeInGB</th></tr></thead><tbody><tr><td>4.107</td></tr></tbody></table></div>"
      ]
     },
     "metadata": {
      "application/vnd.databricks.v1+output": {
       "addedWidgets": {},
       "aggData": [],
       "aggError": "",
       "aggOverflow": false,
       "aggSchema": [],
       "aggSeriesLimitReached": false,
       "aggType": "",
       "arguments": {},
       "columnCustomDisplayInfos": {},
       "data": [
        [
         4.107
        ]
       ],
       "datasetInfos": [],
       "dbfsResultPath": null,
       "isJsonSchema": true,
       "metadata": {
        "dataframeName": "_sqldf",
        "executionCount": 8
       },
       "overflow": false,
       "plotOptions": {
        "customPlotOptions": {},
        "displayType": "table",
        "pivotAggregation": null,
        "pivotColumns": null,
        "xColumns": null,
        "yColumns": null
       },
       "removedWidgets": [],
       "schema": [
        {
         "metadata": "{}",
         "name": "sizeInGB",
         "type": "\"double\""
        }
       ],
       "type": "table"
      }
     },
     "output_type": "display_data"
    }
   ],
   "source": [
    "%sql\n",
    "-- consulta a view criada.\n",
    "select round(sum(size)/(1024*1024*1024),3) as sizeInGB from adlsSize"
   ]
  },
  {
   "cell_type": "code",
   "execution_count": 0,
   "metadata": {
    "application/vnd.databricks.v1+cell": {
     "cellMetadata": {
      "byteLimit": 2048000,
      "rowLimit": 10000
     },
     "inputWidgets": {},
     "nuid": "14de5341-bb01-4ea0-8511-f8f5b1412985",
     "showTitle": false,
     "title": ""
    }
   },
   "outputs": [
    {
     "output_type": "display_data",
     "data": {
      "text/html": [
       "<style scoped>\n",
       "  .table-result-container {\n",
       "    max-height: 300px;\n",
       "    overflow: auto;\n",
       "  }\n",
       "  table, th, td {\n",
       "    border: 1px solid black;\n",
       "    border-collapse: collapse;\n",
       "  }\n",
       "  th, td {\n",
       "    padding: 5px;\n",
       "  }\n",
       "  th {\n",
       "    text-align: left;\n",
       "  }\n",
       "</style><div class='table-result-container'><table class='table-result'><thead style='background-color: white'><tr><th>practice</th><th>bnf_code</th><th>bnf_name</th><th>items</th><th>nic</th><th>act_cost</th><th>quantity</th></tr></thead><tbody><tr><td>3626</td><td>12090</td><td>20521</td><td>3</td><td>8.4</td><td>7.82</td><td>168</td></tr><tr><td>3626</td><td>23511</td><td>11576</td><td>1</td><td>32.18</td><td>29.81</td><td>28</td></tr><tr><td>3626</td><td>14802</td><td>14672</td><td>162</td><td>141.13</td><td>133.93</td><td>4760</td></tr><tr><td>3626</td><td>14590</td><td>10011</td><td>17</td><td>15.01</td><td>14.12</td><td>532</td></tr><tr><td>3626</td><td>24483</td><td>13726</td><td>69</td><td>57.57</td><td>54.67</td><td>2121</td></tr><tr><td>3626</td><td>7768</td><td>22070</td><td>155</td><td>113.03</td><td>109.41</td><td>4144</td></tr><tr><td>3626</td><td>1877</td><td>13598</td><td>102</td><td>68.5</td><td>67.4</td><td>2370</td></tr><tr><td>3626</td><td>18110</td><td>3990</td><td>189</td><td>156.66</td><td>150.44</td><td>5222</td></tr><tr><td>3626</td><td>14058</td><td>2144</td><td>23</td><td>23.52</td><td>22.48</td><td>588</td></tr><tr><td>3626</td><td>4558</td><td>5695</td><td>32</td><td>116.64</td><td>109.21</td><td>756</td></tr></tbody></table></div>"
      ]
     },
     "metadata": {
      "application/vnd.databricks.v1+output": {
       "addedWidgets": {},
       "aggData": [],
       "aggError": "",
       "aggOverflow": false,
       "aggSchema": [],
       "aggSeriesLimitReached": false,
       "aggType": "",
       "arguments": {},
       "columnCustomDisplayInfos": {},
       "data": [
        [
         3626,
         12090,
         20521,
         3,
         8.4,
         7.82,
         168
        ],
        [
         3626,
         23511,
         11576,
         1,
         32.18,
         29.81,
         28
        ],
        [
         3626,
         14802,
         14672,
         162,
         141.13,
         133.93,
         4760
        ],
        [
         3626,
         14590,
         10011,
         17,
         15.01,
         14.12,
         532
        ],
        [
         3626,
         24483,
         13726,
         69,
         57.57,
         54.67,
         2121
        ],
        [
         3626,
         7768,
         22070,
         155,
         113.03,
         109.41,
         4144
        ],
        [
         3626,
         1877,
         13598,
         102,
         68.5,
         67.4,
         2370
        ],
        [
         3626,
         18110,
         3990,
         189,
         156.66,
         150.44,
         5222
        ],
        [
         3626,
         14058,
         2144,
         23,
         23.52,
         22.48,
         588
        ],
        [
         3626,
         4558,
         5695,
         32,
         116.64,
         109.21,
         756
        ]
       ],
       "datasetInfos": [],
       "dbfsResultPath": null,
       "isJsonSchema": true,
       "metadata": {},
       "overflow": false,
       "plotOptions": {
        "customPlotOptions": {},
        "displayType": "table",
        "pivotAggregation": null,
        "pivotColumns": null,
        "xColumns": null,
        "yColumns": null
       },
       "removedWidgets": [],
       "schema": [
        {
         "metadata": "{}",
         "name": "practice",
         "type": "\"long\""
        },
        {
         "metadata": "{}",
         "name": "bnf_code",
         "type": "\"long\""
        },
        {
         "metadata": "{}",
         "name": "bnf_name",
         "type": "\"long\""
        },
        {
         "metadata": "{}",
         "name": "items",
         "type": "\"long\""
        },
        {
         "metadata": "{}",
         "name": "nic",
         "type": "\"double\""
        },
        {
         "metadata": "{}",
         "name": "act_cost",
         "type": "\"double\""
        },
        {
         "metadata": "{}",
         "name": "quantity",
         "type": "\"long\""
        }
       ],
       "type": "table"
      }
     },
     "output_type": "display_data"
    }
   ],
   "source": [
    "display(df_parquet.head(10))"
   ]
  },
  {
   "cell_type": "code",
   "execution_count": 0,
   "metadata": {
    "application/vnd.databricks.v1+cell": {
     "cellMetadata": {
      "byteLimit": 2048000,
      "rowLimit": 10000
     },
     "inputWidgets": {},
     "nuid": "7373f7ef-2896-4976-ad2e-48ee2a7966b4",
     "showTitle": false,
     "title": ""
    }
   },
   "outputs": [
    {
     "output_type": "stream",
     "name": "stdout",
     "output_type": "stream",
     "text": [
      "+--------+--------------------+-------------+----------+--------------------+\n|Bnf_code|       Soma_Act_cost|Soma_Quantity|Soma_items|      Media_Act_cost|\n+--------+--------------------+-------------+----------+--------------------+\n|   18498|2.5857266359999824E7|       334546|    334028|2.5857266359999824E7|\n|   10206|   686586.2599999988|     39952400|     52506|   686586.2599999988|\n|    9376|  3462964.9900000207|     13596394|    291217|  3462964.9900000207|\n|    8389|   8558775.460000006|     74951150|   5737494|   8558775.460000006|\n|    7253|   9033206.659999918|    112079470|   2175438|   9033206.659999918|\n|   16861|   793183.7800000156|     16390558|    346210|   793183.7800000156|\n|   11141|   919899.5200000005|       743743|      8747|   919899.5200000005|\n|   24347|  232912.30999999994|       716567|     17985|  232912.30999999994|\n|    5803|  250780.74999999988|        59106|      4324|  250780.74999999988|\n|    7982|   417322.7799999998|        27200|     12316|   417322.7799999998|\n|   23271|   511376.0600000002|      1915806|     56968|   511376.0600000002|\n|    7833|  175368.55000000092|      1514820|     22052|  175368.55000000092|\n|   18024|   2301300.439999994|       767187|     17887|   2301300.439999994|\n|   13832|   348101.9999999995|      2055958|     53158|   348101.9999999995|\n|   23364|   4175913.090000001|      2388995|     38630|   4175913.090000001|\n|    4935|  52414.419999999984|      4102500|      2520|  52414.419999999984|\n|     463|   2079160.970000003|     11798618|    207720|   2079160.970000003|\n|   21700|  203772.54000000004|       104151|      1086|  203772.54000000004|\n|   27484|   89004.88000000002|       771738|     13562|   89004.88000000002|\n|    4818|   35070.63999999999|      2916500|      3015|   35070.63999999999|\n+--------+--------------------+-------------+----------+--------------------+\nonly showing top 20 rows\n\n"
     ]
    }
   ],
   "source": [
    "#Add columns to DataFrame using SQL\n",
    "df_parquet.createOrReplaceTempView(\"view_df_parquet\")\n",
    "\n",
    "spark.sql(\"SELECT BNF_CODE as Bnf_code \\\n",
    "                  ,SUM(ACT_COST) as Soma_Act_cost \\\n",
    "                  ,SUM(QUANTITY) as Soma_Quantity \\\n",
    "                  ,SUM(ITEMS) as Soma_items \\\n",
    "                  ,SUM(ACT_COST) as Media_Act_cost \\\n",
    "           FROM view_df_parquet \\\n",
    "           GROUP BY bnf_code\").show()"
   ]
  }
 ],
 "metadata": {
  "application/vnd.databricks.v1+notebook": {
   "dashboards": [],
   "language": "python",
   "notebookMetadata": {
    "mostRecentlyExecutedCommandWithImplicitDF": {
     "commandId": 2448777500651909,
     "dataframes": [
      "_sqldf"
     ]
    },
    "pythonIndentUnit": 2
   },
   "notebookName": "Scripts_1",
   "widgets": {}
  }
 },
 "nbformat": 4,
 "nbformat_minor": 0
}
